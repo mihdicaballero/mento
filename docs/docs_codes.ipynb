{
 "cells": [
  {
   "cell_type": "code",
   "execution_count": 3,
   "metadata": {},
   "outputs": [
    {
     "name": "stdout",
     "output_type": "stream",
     "text": [
      "{'f_c': <Quantity(25, 'megapascal')>, 'density': <Quantity(2500.0, 'kilogram / meter ** 3')>, 'E_c': <Quantity(26875.0, 'megapascal')>, 'f_r': <Quantity(3.125, 'megapascal')>, 'beta_1': <Quantity(0.85, 'dimensionless')>, 'epsilon_c': <Quantity(0.003, 'dimensionless')>}\n"
     ]
    }
   ],
   "source": [
    "from mento.material import Concrete_ACI_318_19\n",
    "from mento import MPa\n",
    "concrete = Concrete_ACI_318_19(name=\"Concrete ACI H25\", f_c=25 * MPa)\n",
    "properties = concrete.get_properties()\n",
    "print(properties)"
   ]
  },
  {
   "cell_type": "code",
   "execution_count": 4,
   "metadata": {},
   "outputs": [
    {
     "name": "stdout",
     "output_type": "stream",
     "text": [
      "{'E_s': <Quantity(200, 'gigapascal')>, 'f_y': <Quantity(420, 'megapascal')>, 'epsilon_y': <Quantity(0.0021, 'dimensionless')>}\n"
     ]
    }
   ],
   "source": [
    "from mento.material import SteelBar\n",
    "from mento import MPa\n",
    "steel_bar = SteelBar(name=\"ADN 500\", f_y=420 * MPa)\n",
    "properties = steel_bar.get_properties()\n",
    "print(properties)"
   ]
  }
 ],
 "metadata": {
  "kernelspec": {
   "display_name": "Python 3",
   "language": "python",
   "name": "python3"
  },
  "language_info": {
   "codemirror_mode": {
    "name": "ipython",
    "version": 3
   },
   "file_extension": ".py",
   "mimetype": "text/x-python",
   "name": "python",
   "nbconvert_exporter": "python",
   "pygments_lexer": "ipython3",
   "version": "3.11.9"
  }
 },
 "nbformat": 4,
 "nbformat_minor": 2
}
