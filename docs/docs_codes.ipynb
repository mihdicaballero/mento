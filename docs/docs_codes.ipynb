{
 "cells": [
  {
   "cell_type": "markdown",
   "metadata": {},
   "source": [
    "## Material"
   ]
  },
  {
   "cell_type": "code",
   "execution_count": 1,
   "metadata": {},
   "outputs": [
    {
     "name": "stdout",
     "output_type": "stream",
     "text": [
      "{'f_c': <Quantity(25, 'megapascal')>, 'density': <Quantity(2500.0, 'kilogram / meter ** 3')>, 'E_c': <Quantity(26875.0, 'megapascal')>, 'f_r': <Quantity(3.125, 'megapascal')>, 'beta_1': <Quantity(0.85, 'dimensionless')>, 'epsilon_c': <Quantity(0.003, 'dimensionless')>}\n"
     ]
    }
   ],
   "source": [
    "from mento.material import Concrete_ACI_318_19\n",
    "from mento import MPa\n",
    "concrete = Concrete_ACI_318_19(name=\"Concrete ACI H25\", f_c=25 * MPa)\n",
    "properties = concrete.get_properties()\n",
    "print(properties)"
   ]
  },
  {
   "cell_type": "code",
   "execution_count": 2,
   "metadata": {},
   "outputs": [
    {
     "name": "stdout",
     "output_type": "stream",
     "text": [
      "{'E_s': <Quantity(200, 'gigapascal')>, 'f_y': <Quantity(420, 'megapascal')>, 'epsilon_y': <Quantity(0.0021, 'dimensionless')>}\n"
     ]
    }
   ],
   "source": [
    "from mento.material import SteelBar\n",
    "from mento import MPa\n",
    "steel_bar = SteelBar(name=\"ADN 500\", f_y=420 * MPa)\n",
    "properties = steel_bar.get_properties()\n",
    "print(properties)"
   ]
  },
  {
   "cell_type": "markdown",
   "metadata": {},
   "source": [
    "## Units"
   ]
  },
  {
   "cell_type": "code",
   "execution_count": 5,
   "metadata": {},
   "outputs": [
    {
     "name": "stdout",
     "output_type": "stream",
     "text": [
      "2.00 m 15.00 cm 2.15 m\n",
      "7.05 ft\n"
     ]
    }
   ],
   "source": [
    "from mento import cm, m\n",
    "a = 2*m\n",
    "b = 15*cm\n",
    "c = a + b \n",
    "print(a, b, c)\n",
    "d = c.to('ft')\n",
    "print(d)"
   ]
  },
  {
   "cell_type": "code",
   "execution_count": 9,
   "metadata": {},
   "outputs": [
    {
     "name": "stdout",
     "output_type": "stream",
     "text": [
      "15.24 kN\n",
      "Force is 15.2354 kN\n"
     ]
    }
   ],
   "source": [
    "from mento import kN\n",
    "F = 15.2354*kN\n",
    "print(F)\n",
    "F2 = f\"Force is {F:.4f~P}\" # Output: \"Force is 15.2354 kN\"\n",
    "print(F2)"
   ]
  },
  {
   "cell_type": "markdown",
   "metadata": {},
   "source": [
    "## Forces"
   ]
  },
  {
   "cell_type": "code",
   "execution_count": 10,
   "metadata": {},
   "outputs": [
    {
     "name": "stdout",
     "output_type": "stream",
     "text": [
      "2.00 kN\n",
      "10.00 kN\n",
      "5.00 kN·m\n",
      "{'N_x': <Quantity(3, 'kilonewton')>, 'V_z': <Quantity(0, 'kilonewton')>, 'M_y': <Quantity(7, 'kilonewton * meter')>}\n",
      "Crane load\n",
      "2\n"
     ]
    }
   ],
   "source": [
    "from mento import Forces, kN, kNm\n",
    "\n",
    "# Create a new Forces object\n",
    "forces = Forces(N_x=2*kN, V_z=10*kN, M_y=5*kNm)\n",
    "\n",
    "# Check current values of forces\n",
    "print(forces.N_x)  # Output: 2.00 kN\n",
    "print(forces.V_z)  # Output: 10.00 kN\n",
    "print(forces.M_y)  # Output: 5.00 kN*m\n",
    "\n",
    "# Modify the forces\n",
    "forces.set_forces(N_x=3*kN, M_y=7*kNm)\n",
    "\n",
    "# Retrieve forces as a dictionary\n",
    "forces_dict = forces.get_forces()\n",
    "print(forces_dict)\n",
    "\n",
    "# Assign a label to the forces object\n",
    "forces.label = \"Crane load\"\n",
    "print(forces.label)\n",
    "\n",
    "# Check the unique ID assigned to this object\n",
    "print(forces.id)"
   ]
  },
  {
   "cell_type": "markdown",
   "metadata": {},
   "source": [
    "## Settings"
   ]
  },
  {
   "cell_type": "code",
   "execution_count": 12,
   "metadata": {},
   "outputs": [
    {
     "name": "stdout",
     "output_type": "stream",
     "text": [
      "{'clear_cover': <Quantity(25, 'millimeter')>, 'clear_spacing': <Quantity(20, 'millimeter')>, 'stirrup_diameter_ini': <Quantity(8, 'millimeter')>, 'longitudinal_diameter_ini': <Quantity(16, 'millimeter')>, 'vibrator_size': <Quantity(30, 'millimeter')>, 'layers_spacing': <Quantity(25, 'millimeter')>}\n"
     ]
    }
   ],
   "source": [
    "from mento import Concrete_ACI_318_19, SteelBar, RectangularConcreteBeam\n",
    "from mento import psi, inch, ksi, mm\n",
    "# Define concrete and steel materials\n",
    "concrete = Concrete_ACI_318_19(name=\"C4\", f_c=4000 * psi)\n",
    "steel = SteelBar(name=\"ADN 420\", f_y=60 * ksi)\n",
    "\n",
    "# Initialize section using default settings\n",
    "section = RectangularConcreteBeam(\n",
    "    label=\"V-10x16\",\n",
    "    concrete=concrete,\n",
    "    steel_bar=steel,\n",
    "    width=10 * inch,\n",
    "    height=16 * inch\n",
    ")\n",
    "\n",
    "# Check default settings\n",
    "print(section.settings.default_settings)\n"
   ]
  },
  {
   "cell_type": "code",
   "execution_count": 13,
   "metadata": {},
   "outputs": [
    {
     "name": "stdout",
     "output_type": "stream",
     "text": [
      "{'clear_cover': <Quantity(50, 'millimeter')>, 'clear_spacing': <Quantity(20, 'millimeter')>, 'stirrup_diameter_ini': <Quantity(8, 'millimeter')>, 'longitudinal_diameter_ini': <Quantity(25, 'millimeter')>, 'vibrator_size': <Quantity(30, 'millimeter')>, 'layers_spacing': <Quantity(25, 'millimeter')>}\n"
     ]
    }
   ],
   "source": [
    "custom_settings = {'clear_cover': 50 * mm, 'longitudinal_diameter_ini': 25 * mm}\n",
    "\n",
    "# Create section with custom settings\n",
    "section = RectangularConcreteBeam(\n",
    "    label=\"V-12x18\",\n",
    "    concrete=concrete,\n",
    "    steel_bar=steel,\n",
    "    width=12 * inch,\n",
    "    height=18 * inch,\n",
    "    settings=custom_settings\n",
    ")\n",
    "\n",
    "# Print the updated settings\n",
    "print(section.settings.settings)"
   ]
  }
 ],
 "metadata": {
  "kernelspec": {
   "display_name": "Python 3",
   "language": "python",
   "name": "python3"
  },
  "language_info": {
   "codemirror_mode": {
    "name": "ipython",
    "version": 3
   },
   "file_extension": ".py",
   "mimetype": "text/x-python",
   "name": "python",
   "nbconvert_exporter": "python",
   "pygments_lexer": "ipython3",
   "version": "3.11.9"
  }
 },
 "nbformat": 4,
 "nbformat_minor": 2
}
