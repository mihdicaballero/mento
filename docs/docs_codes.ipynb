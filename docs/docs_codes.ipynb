{
 "cells": [
  {
   "cell_type": "markdown",
   "metadata": {},
   "source": [
    "## Material"
   ]
  },
  {
   "cell_type": "code",
   "execution_count": 1,
   "metadata": {},
   "outputs": [
    {
     "name": "stdout",
     "output_type": "stream",
     "text": [
      "Concrete Properties (H25):\n",
      "  f_c: 25.00 MPa\n",
      "  Density: 2500.00 kg/m³\n",
      "  E_c: 26875.00 MPa\n",
      "  f_r: 3.12 MPa\n",
      "  beta_1: 0.85\n",
      "  epsilon_c: 0.003\n"
     ]
    }
   ],
   "source": [
    "from mento import Concrete_ACI_318_19, MPa\n",
    "concrete = Concrete_ACI_318_19(name=\"H25\", f_c=25 * MPa)\n",
    "print(concrete)"
   ]
  },
  {
   "cell_type": "code",
   "execution_count": 2,
   "metadata": {},
   "outputs": [
    {
     "name": "stdout",
     "output_type": "stream",
     "text": [
      "SteelBar Properties (ADN 420):\n",
      "  f_y: 420.00 MPa\n",
      "  E_s: 200.00 GPa\n",
      "  epsilon_y: 0.0021\n",
      "  Density: 7850.00 kg/m³\n"
     ]
    }
   ],
   "source": [
    "from mento import SteelBar, MPa\n",
    "steel_bar = SteelBar(name=\"ADN 420\", f_y=420 * MPa)\n",
    "print(steel_bar)"
   ]
  },
  {
   "cell_type": "markdown",
   "metadata": {},
   "source": [
    "## Units"
   ]
  },
  {
   "cell_type": "code",
   "execution_count": 3,
   "metadata": {},
   "outputs": [
    {
     "name": "stdout",
     "output_type": "stream",
     "text": [
      "2.00 m 15.00 cm 2.15 m\n",
      "7.05 ft\n"
     ]
    }
   ],
   "source": [
    "from mento import cm, m\n",
    "a = 2*m\n",
    "b = 15*cm\n",
    "c = a + b \n",
    "print(a, b, c)\n",
    "d = c.to('ft')\n",
    "print(d)"
   ]
  },
  {
   "cell_type": "code",
   "execution_count": 4,
   "metadata": {},
   "outputs": [
    {
     "name": "stdout",
     "output_type": "stream",
     "text": [
      "15.24 kN\n",
      "Force is 15.2354 kN\n"
     ]
    }
   ],
   "source": [
    "from mento import kN\n",
    "F = 15.2354*kN\n",
    "print(F)\n",
    "F2 = f\"Force is {F:.4f~P}\" # Output: \"Force is 15.2354 kN\"\n",
    "print(F2)"
   ]
  },
  {
   "cell_type": "markdown",
   "metadata": {},
   "source": [
    "## Forces"
   ]
  },
  {
   "cell_type": "code",
   "execution_count": 2,
   "metadata": {},
   "outputs": [
    {
     "name": "stdout",
     "output_type": "stream",
     "text": [
      "0.45 kip\n",
      "2.25 kip\n",
      "3.69 ft·kip\n",
      "{'N_x': <Quantity(0.674426829, 'kip')>, 'V_z': <Quantity(0.0, 'kip')>, 'M_y': <Quantity(5.16293504, 'kip * foot')>}\n",
      "Crane load\n",
      "2\n",
      "Force ID: 2, Label: Crane load, N_x: 0.67 kip, V_z: 0.00 kip, M_y: 5.16 ft·kip\n"
     ]
    }
   ],
   "source": [
    "from mento import Forces, kN, kNm\n",
    "\n",
    "# Create a new Forces object\n",
    "force = Forces(N_x=2*kN, V_z=10*kN, M_y=5*kNm, unit_system=\"imperial\")\n",
    "\n",
    "# Check current values of forces\n",
    "print(force.N_x)  # Output: 2.00 kN\n",
    "print(force.V_z)  # Output: 10.00 kN\n",
    "print(force.M_y)  # Output: 5.00 kN*m\n",
    "\n",
    "# Modify the forces\n",
    "force.set_forces(N_x=3*kN, M_y=7*kNm)\n",
    "\n",
    "# Retrieve forces as a dictionary\n",
    "forces_dict = force.get_forces()\n",
    "print(forces_dict)\n",
    "\n",
    "# Assign a label to the forces object\n",
    "force.label = \"Crane load\"\n",
    "print(force.label)\n",
    "\n",
    "# Check the unique ID assigned to this object\n",
    "print(force.id)\n",
    "\n",
    "# Get a string print of the forces object with all it's roperties\n",
    "print(force)"
   ]
  },
  {
   "cell_type": "markdown",
   "metadata": {},
   "source": [
    "## Settings"
   ]
  },
  {
   "cell_type": "code",
   "execution_count": 4,
   "metadata": {},
   "outputs": [
    {
     "name": "stdout",
     "output_type": "stream",
     "text": [
      "C:\\Users\\mihdi\\Documents\\GitHub\\mento\\mento\\beam.py:266 RectangularBeam._calculate_long_rebar_centroid\n",
      "    self._n1_b: 2 (int)\n",
      "14.44 in\n",
      "Settings:\n",
      "  clear_cover: 1.00 in\n",
      "  clear_spacing: 1.00 in\n",
      "  stirrup_diameter_ini: 0.38 in\n",
      "  vibrator_size: 1.25 in\n",
      "  layers_spacing: 1.00 in\n",
      "  max_diameter_diff: 0.25 in\n",
      "  max_bars_per_layer: 5\n",
      "  minimum_longitudinal_diameter: 0.38 in\n"
     ]
    }
   ],
   "source": [
    "from mento import Concrete_ACI_318_19, SteelBar, RectangularBeam\n",
    "from mento import psi, inch, ksi, mm\n",
    "# Define concrete and steel materials\n",
    "concrete = Concrete_ACI_318_19(name=\"C4\", f_c=4000 * psi)\n",
    "steel = SteelBar(name=\"ADN 420\", f_y=60 * ksi)\n",
    "\n",
    "# Initialize section using default settings\n",
    "section = RectangularBeam(\n",
    "    label=\"101\",\n",
    "    concrete=concrete,\n",
    "    steel_bar=steel,\n",
    "    width=10 * inch,\n",
    "    height=16 * inch\n",
    ")\n",
    "\n",
    "# Check default settings\n",
    "print(section.settings)\n"
   ]
  },
  {
   "cell_type": "code",
   "execution_count": 7,
   "metadata": {},
   "outputs": [
    {
     "name": "stdout",
     "output_type": "stream",
     "text": [
      "C:\\Users\\mihdi\\Documents\\GitHub\\mento\\mento\\beam.py:266 RectangularBeam._calculate_long_rebar_centroid\n",
      "    self._n1_b: 2 (int)\n",
      "15.47 in\n",
      "Settings:\n",
      "  clear_cover: 50.00 mm\n",
      "  clear_spacing: 1.00 in\n",
      "  stirrup_diameter_ini: 0.38 in\n",
      "  vibrator_size: 1.25 in\n",
      "  layers_spacing: 1.00 in\n",
      "  max_diameter_diff: 0.25 in\n",
      "  max_bars_per_layer: 5\n",
      "  minimum_longitudinal_diameter: 0.38 in\n",
      "  longitudinal_diameter_ini: 25.00 mm\n"
     ]
    }
   ],
   "source": [
    "custom_settings = {'clear_cover': 50 * mm, 'longitudinal_diameter_ini': 25 * mm}\n",
    "\n",
    "# Create section with custom settings\n",
    "section = RectangularBeam(\n",
    "    label=\"101\",\n",
    "    concrete=concrete,\n",
    "    steel_bar=steel,\n",
    "    width=12 * inch,\n",
    "    height=18 * inch,\n",
    "    settings=custom_settings\n",
    ")\n",
    "\n",
    "# Print the updated settings\n",
    "print(section.settings)"
   ]
  }
 ],
 "metadata": {
  "kernelspec": {
   "display_name": "rame-env",
   "language": "python",
   "name": "python3"
  },
  "language_info": {
   "codemirror_mode": {
    "name": "ipython",
    "version": 3
   },
   "file_extension": ".py",
   "mimetype": "text/x-python",
   "name": "python",
   "nbconvert_exporter": "python",
   "pygments_lexer": "ipython3",
   "version": "3.12.7"
  }
 },
 "nbformat": 4,
 "nbformat_minor": 2
}
