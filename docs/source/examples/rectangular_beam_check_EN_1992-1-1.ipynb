{
 "cells": [
  {
   "cell_type": "markdown",
   "metadata": {},
   "source": [
    "# Rectangular Beam check EN 1992-1-1"
   ]
  },
  {
   "cell_type": "markdown",
   "metadata": {
    "vscode": {
     "languageId": "plaintext"
    }
   },
   "source": [
    "**Define concrete and steel materials, and then assign the beam**"
   ]
  },
  {
   "cell_type": "code",
   "execution_count": 2,
   "metadata": {},
   "outputs": [
    {
     "data": {
      "text/markdown": [
       "Beam 101, $b$=20.00 cm, $h$=50.00 cm, $c_{c}$=2.50 cm,                             Concrete H25, Rebar ADN 500."
      ],
      "text/plain": [
       "<IPython.core.display.Markdown object>"
      ]
     },
     "metadata": {},
     "output_type": "display_data"
    }
   ],
   "source": [
    "from mento import Concrete_EN_1992_2004, SteelBar, RectangularBeam, mm, cm, kN, MPa, kNm\n",
    "from mento import Forces, Node\n",
    "\n",
    "# Define materials\n",
    "concrete = Concrete_EN_1992_2004(name=\"H25\", f_c=25*MPa)\n",
    "steel = SteelBar(name=\"ADN 500\", f_y=500*MPa)\n",
    "\n",
    "# Define beam geometry\n",
    "beam = RectangularBeam(label=\"101\", concrete=concrete, steel_bar=steel, width=20*cm, height=50*cm, c_c=2.5*cm)\n",
    "beam.data"
   ]
  },
  {
   "cell_type": "markdown",
   "metadata": {},
   "source": [
    "**Set longitudinal and transverse reinforcement**"
   ]
  },
  {
   "cell_type": "code",
   "execution_count": 3,
   "metadata": {},
   "outputs": [
    {
     "data": {
      "image/png": "[encoded data removed]",
      "text/plain": [
       "<Figure size 640x480 with 1 Axes>"
      ]
     },
     "metadata": {},
     "output_type": "display_data"
    }
   ],
   "source": [
    "# Set bottom longitudinal reinforcement\n",
    "beam.set_longitudinal_rebar_bot(n1=2, d_b1=16*mm, n2=1, d_b2=12*mm)\n",
    "\n",
    "# Set top longitudinal reinforcement\n",
    "beam.set_longitudinal_rebar_top(n1=2, d_b1=12*mm)\n",
    "\n",
    "# Set transverse reinforcement (stirrups)\n",
    "beam.set_transverse_rebar(n_stirrups=1, d_b=6*mm, s_l=20*cm)\n",
    "\n",
    "# Plot the beam geometry and reinforcement\n",
    "beam.plot()"
   ]
  },
  {
   "cell_type": "markdown",
   "metadata": {},
   "source": [
    "**Define list of forces applied to the beam**"
   ]
  },
  {
   "cell_type": "code",
   "execution_count": 4,
   "metadata": {},
   "outputs": [
    {
     "name": "stdout",
     "output_type": "stream",
     "text": [
      "Force ID: 1, Label: 1.4D, N_x: 0.00 kN, V_z: 50.00 kN, M_y: 80.00 kN·m\n",
      "Force ID: 2, Label: 1.2D+1.6L, N_x: 0.00 kN, V_z: 55.00 kN, M_y: -30.00 kN·m\n"
     ]
    }
   ],
   "source": [
    "# Define forces\n",
    "f1 = Forces(label='1.4D', V_z=50*kN, M_y=80*kNm)\n",
    "f2 = Forces(label='1.2D+1.6L', V_z=55*kN, M_y=-30*kNm)\n",
    "print(f1)\n",
    "print(f2)"
   ]
  },
  {
   "cell_type": "markdown",
   "metadata": {},
   "source": [
    "**Create node and assign beam section and list of forces**"
   ]
  },
  {
   "cell_type": "code",
   "execution_count": 5,
   "metadata": {},
   "outputs": [
    {
     "data": {
      "text/plain": [
       "Node ID: 1 - Section label: 101\n",
       "Forces Applied:\n",
       "  - Force ID: 1, Label: 1.4D, N_x: 0.00 kN, V_z: 50.00 kN, M_y: 80.00 kN·m\n",
       "  - Force ID: 2, Label: 1.2D+1.6L, N_x: 0.00 kN, V_z: 55.00 kN, M_y: -30.00 kN·m"
      ]
     },
     "execution_count": 5,
     "metadata": {},
     "output_type": "execute_result"
    }
   ],
   "source": [
    "node_1 = Node(section=beam, forces=[f1, f2])\n",
    "node_1"
   ]
  },
  {
   "cell_type": "markdown",
   "metadata": {},
   "source": [
    "**Perform shear and bending checks**"
   ]
  },
  {
   "cell_type": "code",
   "execution_count": 6,
   "metadata": {},
   "outputs": [
    {
     "data": {
      "text/markdown": [
       "Beam 101, $b$=20.00 cm, $h$=50.00 cm, $c_{c}$=2.50 cm,                             Concrete H25, Rebar ADN 500."
      ],
      "text/plain": [
       "<IPython.core.display.Markdown object>"
      ]
     },
     "metadata": {},
     "output_type": "display_data"
    },
    {
     "data": {
      "text/markdown": [
       "Shear reinforcing 1eØ6/20 cm, $A_{sw}$=2.83 cm²/m, $V_{Ed,2}$=55 kN, $V_{Rd}$=127.64 kN → $\\color{#439b00}{\\text{DCR}=0.43}$ "
      ],
      "text/plain": [
       "<IPython.core.display.Markdown object>"
      ]
     },
     "metadata": {},
     "output_type": "display_data"
    }
   ],
   "source": [
    "# Perform all checks\n",
    "node_1.check_shear()\n",
    "# node_1.check_flexure()\n",
    "# Print results in Markdown format\n",
    "node_1.results"
   ]
  },
  {
   "cell_type": "code",
   "execution_count": 7,
   "metadata": {},
   "outputs": [
    {
     "data": {
      "text/html": [
       "<div>\n",
       "<style scoped>\n",
       "    .dataframe tbody tr th:only-of-type {\n",
       "        vertical-align: middle;\n",
       "    }\n",
       "\n",
       "    .dataframe tbody tr th {\n",
       "        vertical-align: top;\n",
       "    }\n",
       "\n",
       "    .dataframe thead th {\n",
       "        text-align: right;\n",
       "    }\n",
       "</style>\n",
       "<table border=\"1\" class=\"dataframe\">\n",
       "  <thead>\n",
       "    <tr style=\"text-align: right;\">\n",
       "      <th></th>\n",
       "      <th>Label</th>\n",
       "      <th>Comb.</th>\n",
       "      <th>Av,min</th>\n",
       "      <th>Av,req</th>\n",
       "      <th>Av</th>\n",
       "      <th>VEd,1</th>\n",
       "      <th>VEd,2</th>\n",
       "      <th>VRd,c</th>\n",
       "      <th>VRd,s</th>\n",
       "      <th>VRd</th>\n",
       "      <th>VRd,max</th>\n",
       "      <th>VEd,1≤VRd,max</th>\n",
       "      <th>VEd,2≤VRd</th>\n",
       "      <th>DCR</th>\n",
       "    </tr>\n",
       "  </thead>\n",
       "  <tbody>\n",
       "    <tr>\n",
       "      <th>0</th>\n",
       "      <td></td>\n",
       "      <td></td>\n",
       "      <td>cm²/m</td>\n",
       "      <td>cm²/m</td>\n",
       "      <td>cm²/m</td>\n",
       "      <td>kN</td>\n",
       "      <td>kN</td>\n",
       "      <td>kN</td>\n",
       "      <td>kN</td>\n",
       "      <td>kN</td>\n",
       "      <td>kN</td>\n",
       "      <td></td>\n",
       "      <td></td>\n",
       "      <td></td>\n",
       "    </tr>\n",
       "    <tr>\n",
       "      <th>1</th>\n",
       "      <td>101</td>\n",
       "      <td>1.4D</td>\n",
       "      <td>1.6</td>\n",
       "      <td>1.6</td>\n",
       "      <td>2.83</td>\n",
       "      <td>50</td>\n",
       "      <td>50</td>\n",
       "      <td>0</td>\n",
       "      <td>127.64</td>\n",
       "      <td>127.64</td>\n",
       "      <td>257.76</td>\n",
       "      <td>True</td>\n",
       "      <td>True</td>\n",
       "      <td>0.392</td>\n",
       "    </tr>\n",
       "    <tr>\n",
       "      <th>2</th>\n",
       "      <td>101</td>\n",
       "      <td>1.2D+1.6L</td>\n",
       "      <td>1.6</td>\n",
       "      <td>1.6</td>\n",
       "      <td>2.83</td>\n",
       "      <td>55</td>\n",
       "      <td>55</td>\n",
       "      <td>0</td>\n",
       "      <td>127.64</td>\n",
       "      <td>127.64</td>\n",
       "      <td>257.76</td>\n",
       "      <td>True</td>\n",
       "      <td>True</td>\n",
       "      <td>0.431</td>\n",
       "    </tr>\n",
       "  </tbody>\n",
       "</table>\n",
       "</div>"
      ],
      "text/plain": [
       "  Label      Comb. Av,min Av,req     Av VEd,1 VEd,2 VRd,c   VRd,s     VRd  \\\n",
       "0                   cm²/m  cm²/m  cm²/m    kN    kN    kN      kN      kN   \n",
       "1   101       1.4D    1.6    1.6   2.83    50    50     0  127.64  127.64   \n",
       "2   101  1.2D+1.6L    1.6    1.6   2.83    55    55     0  127.64  127.64   \n",
       "\n",
       "  VRd,max VEd,1≤VRd,max VEd,2≤VRd    DCR  \n",
       "0      kN                                 \n",
       "1  257.76          True      True  0.392  \n",
       "2  257.76          True      True  0.431  "
      ]
     },
     "execution_count": 7,
     "metadata": {},
     "output_type": "execute_result"
    }
   ],
   "source": [
    "# Print shear results in more detailed format in a DataFrame\n",
    "node_1.check_shear()"
   ]
  },
  {
   "cell_type": "code",
   "execution_count": 9,
   "metadata": {},
   "outputs": [],
   "source": [
    "# Print flexure results in more detailed format in a DataFrame\n",
    "# node_1.check_flexure()"
   ]
  },
  {
   "cell_type": "markdown",
   "metadata": {},
   "source": [
    "**Export table results to Excel**"
   ]
  },
  {
   "cell_type": "code",
   "execution_count": 10,
   "metadata": {},
   "outputs": [],
   "source": [
    "node_1.check_shear().to_excel('EN 1992-1-1 shear_results.xlsx')\n",
    "# node_1.check_flexure().to_excel('EN 1992-1-1 flexure_results.xlsx')"
   ]
  },
  {
   "cell_type": "markdown",
   "metadata": {},
   "source": [
    "**View complete and detailed results for the limiting case of the list of forces**"
   ]
  },
  {
   "cell_type": "code",
   "execution_count": 11,
   "metadata": {},
   "outputs": [
    {
     "name": "stdout",
     "output_type": "stream",
     "text": [
      "===== BEAM SHEAR DETAILED RESULTS =====\n",
      "Materials                                               Variable     Value  Unit\n",
      "-----------------------------------------------------  ----------  -------  ------\n",
      "Section Label                                                          101\n",
      "Concrete strength                                         fck           25  MPa\n",
      "Steel reinforcement yield strength                        fywk         500  MPa\n",
      "Safety factor for concrete                                 γc          1.5\n",
      "Safety factor for steel                                    γs         1.15\n",
      "Coefficient for long term effects and loading effects     αcc         0.85 \n",
      "\n",
      "Geometry                     Variable     Value  Unit\n",
      "--------------------------  ----------  -------  ------\n",
      "Section height                  h            50  cm\n",
      "Section width                   b            20  cm\n",
      "Clear cover                   rgeom         2.5  cm\n",
      "Longitudinal tension rebar      As         2.26  cm² \n",
      "\n",
      "Design forces                     Variable     Value  Unit\n",
      "-------------------------------  ----------  -------  ------\n",
      "Axial, positive for compression     NEd            0  kN\n",
      "Shear                              VEd,2          55  kN \n",
      "\n",
      "Shear reinforcement strength     Variable     Value  Unit\n",
      "------------------------------  ----------  -------  ------\n",
      "Number of stirrups                  ns            1\n",
      "Stirrup diameter                    db            6  mm\n",
      "Stirrup spacing                     s            20  cm\n",
      "Effective height                    d       46.1439  cm\n",
      "Minimum shear reinforcing        Asw,min        1.6  cm²/m\n",
      "Required shear reinforcing       Asw,req        1.6  cm²/m\n",
      "Defined shear reinforcing          Asw         2.83  cm²/m\n",
      "Shear rebar strength              VRd,s      127.64  kN \n",
      "\n",
      "Check                          Unit     Value  Min.    Max.    Ok?\n",
      "----------------------------  ------  -------  ------  ------  -----\n",
      "Stirrup spacing along length    cm         20          34.61   ✔️\n",
      "Stirrup spacing along width     cm       14.4          34.61   ✔️\n",
      "Minimum shear reinforcement   cm²/m      2.83  1.6             ✔️ \n",
      "\n",
      "Shear strength                     Variable     Value  Unit\n",
      "--------------------------------  ----------  -------  ------\n",
      "Longitudinal reinforcement ratio      ρl       0.0056\n",
      "k value                               k          1.66\n",
      "Axial stress                         σcd          0.0  MPa\n",
      "Concrete strut angle                  Θ          21.8  deg\n",
      "Concrete strength                   VRd,c           0  kN\n",
      "Maximum shear strength             VRd,max     257.76  kN\n",
      "Total shear strength                 VRd       127.64  kN\n",
      "Max shear check                                    ✔️\n",
      "Demand Capacity Ratio                DCR        0.431  ✔️ \n",
      "\n"
     ]
    }
   ],
   "source": [
    "# View detailed shear results\n",
    "node_1.shear_results_detailed()"
   ]
  },
  {
   "cell_type": "code",
   "execution_count": 12,
   "metadata": {},
   "outputs": [],
   "source": [
    "# View detailed flexure results\n",
    "# node_1.flexure_results_detailed()"
   ]
  },
  {
   "cell_type": "markdown",
   "metadata": {},
   "source": [
    "**Export detailed results to a Word document**"
   ]
  },
  {
   "cell_type": "code",
   "execution_count": 13,
   "metadata": {},
   "outputs": [],
   "source": [
    "node_1.shear_results_detailed_doc()\n",
    "# node_1.flexure_results_detailed_doc()"
   ]
  }
 ],
 "metadata": {
  "kernelspec": {
   "display_name": "mento-env",
   "language": "python",
   "name": "python3"
  },
  "language_info": {
   "codemirror_mode": {
    "name": "ipython",
    "version": 3
   },
   "file_extension": ".py",
   "mimetype": "text/x-python",
   "name": "python",
   "nbconvert_exporter": "python",
   "pygments_lexer": "ipython3",
   "version": "3.12.9"
  }
 },
 "nbformat": 4,
 "nbformat_minor": 2
}
