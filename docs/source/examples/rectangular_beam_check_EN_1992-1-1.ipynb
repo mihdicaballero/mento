{
 "cells": [
  {
   "cell_type": "markdown",
   "metadata": {},
   "source": [
    "# Rectangular Beam check EN 1992-1-1"
   ]
  },
  {
   "cell_type": "markdown",
   "metadata": {
    "vscode": {
     "languageId": "plaintext"
    }
   },
   "source": [
    "**Define concrete and steel materials, and then assign the beam**"
   ]
  },
  {
   "cell_type": "code",
   "execution_count": null,
   "metadata": {},
   "outputs": [
    {
     "data": {
      "text/markdown": [
       "Beam 101, $b$=20.00 cm, $h$=50.00 cm, $c_{c}$=2.50 cm,                             Concrete H25, Rebar ADN 500."
      ],
      "text/plain": [
       "<IPython.core.display.Markdown object>"
      ]
     },
     "metadata": {},
     "output_type": "display_data"
    }
   ],
   "source": [
    "from mento import Concrete_EN_1992_2004, SteelBar, RectangularBeam, mm, cm, kN, MPa, kNm\n",
    "from mento import Forces, Node\n",
    "\n",
    "# Define materials\n",
    "concrete = Concrete_EN_1992_2004(name=\"H-25\", f_ck=25*MPa)\n",
    "steel = SteelBar(name=\"ADN 500\", f_y=500*MPa)\n",
    "\n",
    "# Define beam geometry\n",
    "beam = RectangularBeam(label=\"101\", concrete=concrete, steel_bar=steel, width=20*cm, height=50*cm)\n",
    "beam.data"
   ]
  },
  {
   "cell_type": "markdown",
   "metadata": {},
   "source": [
    "**Set longitudinal and transverse reinforcement**"
   ]
  },
  {
   "cell_type": "code",
   "execution_count": 2,
   "metadata": {},
   "outputs": [
    {
     "data": {
      "image/png": "[encoded data removed]",
      "text/plain": [
       "<Figure size 640x480 with 1 Axes>"
      ]
     },
     "metadata": {},
     "output_type": "display_data"
    }
   ],
   "source": [
    "# Set bottom longitudinal reinforcement\n",
    "beam.set_longitudinal_rebar_bot(n1=2, d_b1=16*mm, n2=1, d_b2=12*mm)\n",
    "\n",
    "# Set top longitudinal reinforcement\n",
    "beam.set_longitudinal_rebar_top(n1=2, d_b1=12*mm)\n",
    "\n",
    "# Set transverse reinforcement (stirrups)\n",
    "beam.set_transverse_rebar(n_stirrups=1, d_b=6*mm, s_l=20*cm)\n",
    "\n",
    "# Plot the beam geometry and reinforcement\n",
    "beam.plot()"
   ]
  },
  {
   "cell_type": "markdown",
   "metadata": {},
   "source": [
    "**Define list of forces applied to the beam**"
   ]
  },
  {
   "cell_type": "code",
   "execution_count": 3,
   "metadata": {},
   "outputs": [
    {
     "name": "stdout",
     "output_type": "stream",
     "text": [
      "Force ID: 1, Label: 1.4D, N_x: 0.00 kN, V_z: 50.00 kN, M_y: 80.00 kN·m\n",
      "Force ID: 2, Label: 1.2D+1.6L, N_x: 0.00 kN, V_z: 55.00 kN, M_y: -30.00 kN·m\n"
     ]
    }
   ],
   "source": [
    "# Define forces\n",
    "f1 = Forces(label='1.4D', V_z=50*kN, M_y=80*kNm)\n",
    "f2 = Forces(label='1.2D+1.6L', V_z=55*kN, M_y=-30*kNm)\n",
    "print(f1)\n",
    "print(f2)"
   ]
  },
  {
   "cell_type": "markdown",
   "metadata": {},
   "source": [
    "**Create node and assign beam section and list of forces**"
   ]
  },
  {
   "cell_type": "code",
   "execution_count": 4,
   "metadata": {},
   "outputs": [
    {
     "data": {
      "text/plain": [
       "Node ID: 1 - Section label: 101\n",
       "Forces Applied:\n",
       "  - Force ID: 1, Label: 1.4D, N_x: 0.00 kN, V_z: 50.00 kN, M_y: 80.00 kN·m\n",
       "  - Force ID: 2, Label: 1.2D+1.6L, N_x: 0.00 kN, V_z: 55.00 kN, M_y: -30.00 kN·m"
      ]
     },
     "execution_count": 4,
     "metadata": {},
     "output_type": "execute_result"
    }
   ],
   "source": [
    "node_1 = Node(section=beam, forces=[f1, f2])\n",
    "node_1"
   ]
  },
  {
   "cell_type": "markdown",
   "metadata": {},
   "source": [
    "**Perform shear and bending checks**"
   ]
  },
  {
   "cell_type": "code",
   "execution_count": 5,
   "metadata": {},
   "outputs": [
    {
     "data": {
      "text/markdown": [
       "Beam 101, $b$=20.00 cm, $h$=50.00 cm, $c_{c}$=2.50 cm,                             Concrete H25, Rebar ADN 500."
      ],
      "text/plain": [
       "<IPython.core.display.Markdown object>"
      ]
     },
     "metadata": {},
     "output_type": "display_data"
    },
    {
     "data": {
      "text/markdown": [
       "Shear reinforcing 1eØ6/20 cm, $A_{sw}$=2.83 cm²/m, $V_{Ed,2}$=55 kN, $V_{Rd,s}$=127.64 kN → $\\color{#439b00}{\\text{DCR}=0.43}$ "
      ],
      "text/plain": [
       "<IPython.core.display.Markdown object>"
      ]
     },
     "metadata": {},
     "output_type": "display_data"
    }
   ],
   "source": [
    "# Perform all checks\n",
    "node_1.check_shear()\n",
    "# node_1.check_flexure()\n",
    "# Print results in Markdown format\n",
    "node_1.results"
   ]
  },
  {
   "cell_type": "code",
   "execution_count": 6,
   "metadata": {},
   "outputs": [
    {
     "data": {
      "text/html": [
       "<div>\n",
       "<style scoped>\n",
       "    .dataframe tbody tr th:only-of-type {\n",
       "        vertical-align: middle;\n",
       "    }\n",
       "\n",
       "    .dataframe tbody tr th {\n",
       "        vertical-align: top;\n",
       "    }\n",
       "\n",
       "    .dataframe thead th {\n",
       "        text-align: right;\n",
       "    }\n",
       "</style>\n",
       "<table border=\"1\" class=\"dataframe\">\n",
       "  <thead>\n",
       "    <tr style=\"text-align: right;\">\n",
       "      <th></th>\n",
       "      <th>Label</th>\n",
       "      <th>Av,min</th>\n",
       "      <th>Av,req</th>\n",
       "      <th>Av</th>\n",
       "      <th>VEd,1</th>\n",
       "      <th>VEd,2</th>\n",
       "      <th>VRd,c</th>\n",
       "      <th>VRd,s</th>\n",
       "      <th>VRd</th>\n",
       "      <th>VRd,max</th>\n",
       "      <th>VEd,1&lt;VRd,max</th>\n",
       "      <th>VEd,2&lt;VRd</th>\n",
       "      <th>DCR</th>\n",
       "    </tr>\n",
       "  </thead>\n",
       "  <tbody>\n",
       "    <tr>\n",
       "      <th>0</th>\n",
       "      <td>101</td>\n",
       "      <td>1.60 cm²/m</td>\n",
       "      <td>1.60 cm²/m</td>\n",
       "      <td>2.83 cm²/m</td>\n",
       "      <td>50.00 kN</td>\n",
       "      <td>50.00 kN</td>\n",
       "      <td>0.00 kN</td>\n",
       "      <td>127.64 kN</td>\n",
       "      <td>127.64 kN</td>\n",
       "      <td>257.76 kN</td>\n",
       "      <td>True</td>\n",
       "      <td>True</td>\n",
       "      <td>0.392</td>\n",
       "    </tr>\n",
       "    <tr>\n",
       "      <th>1</th>\n",
       "      <td>101</td>\n",
       "      <td>1.60 cm²/m</td>\n",
       "      <td>1.60 cm²/m</td>\n",
       "      <td>2.83 cm²/m</td>\n",
       "      <td>55.00 kN</td>\n",
       "      <td>55.00 kN</td>\n",
       "      <td>0.00 kN</td>\n",
       "      <td>127.64 kN</td>\n",
       "      <td>127.64 kN</td>\n",
       "      <td>257.76 kN</td>\n",
       "      <td>True</td>\n",
       "      <td>True</td>\n",
       "      <td>0.431</td>\n",
       "    </tr>\n",
       "  </tbody>\n",
       "</table>\n",
       "</div>"
      ],
      "text/plain": [
       "  Label      Av,min      Av,req          Av     VEd,1     VEd,2    VRd,c  \\\n",
       "0   101  1.60 cm²/m  1.60 cm²/m  2.83 cm²/m  50.00 kN  50.00 kN  0.00 kN   \n",
       "1   101  1.60 cm²/m  1.60 cm²/m  2.83 cm²/m  55.00 kN  55.00 kN  0.00 kN   \n",
       "\n",
       "       VRd,s        VRd    VRd,max  VEd,1<VRd,max  VEd,2<VRd    DCR  \n",
       "0  127.64 kN  127.64 kN  257.76 kN           True       True  0.392  \n",
       "1  127.64 kN  127.64 kN  257.76 kN           True       True  0.431  "
      ]
     },
     "execution_count": 6,
     "metadata": {},
     "output_type": "execute_result"
    }
   ],
   "source": [
    "# Print shear results in more detailed format in a DataFrame\n",
    "node_1.check_shear()"
   ]
  },
  {
   "cell_type": "code",
   "execution_count": 7,
   "metadata": {},
   "outputs": [
    {
     "ename": "ValueError",
     "evalue": "Flexure design method not implemented for concrete type: Concrete_EN_1992_2004",
     "output_type": "error",
     "traceback": [
      "\u001b[1;31m---------------------------------------------------------------------------\u001b[0m",
      "\u001b[1;31mValueError\u001b[0m                                Traceback (most recent call last)",
      "Cell \u001b[1;32mIn[7], line 2\u001b[0m\n\u001b[0;32m      1\u001b[0m \u001b[38;5;66;03m# Print flexure results in more detailed format in a DataFrame\u001b[39;00m\n\u001b[1;32m----> 2\u001b[0m \u001b[43mnode_1\u001b[49m\u001b[38;5;241;43m.\u001b[39;49m\u001b[43mcheck_flexure\u001b[49m\u001b[43m(\u001b[49m\u001b[43m)\u001b[49m\n",
      "File \u001b[1;32m~\\Documents\\GitHub\\mento\\mento\\node.py:57\u001b[0m, in \u001b[0;36mNode.check_flexure\u001b[1;34m(self)\u001b[0m\n\u001b[0;32m     56\u001b[0m \u001b[38;5;28;01mdef\u001b[39;00m \u001b[38;5;21mcheck_flexure\u001b[39m(\u001b[38;5;28mself\u001b[39m) \u001b[38;5;241m-\u001b[39m\u001b[38;5;241m>\u001b[39m pd\u001b[38;5;241m.\u001b[39mDataFrame:\n\u001b[1;32m---> 57\u001b[0m     \u001b[38;5;28;01mreturn\u001b[39;00m \u001b[38;5;28;43mself\u001b[39;49m\u001b[38;5;241;43m.\u001b[39;49m\u001b[43msection\u001b[49m\u001b[38;5;241;43m.\u001b[39;49m\u001b[43mcheck_flexure\u001b[49m\u001b[43m(\u001b[49m\u001b[38;5;28;43mself\u001b[39;49m\u001b[38;5;241;43m.\u001b[39;49m\u001b[43mforces\u001b[49m\u001b[43m)\u001b[49m\n",
      "File \u001b[1;32m~\\Documents\\GitHub\\mento\\mento\\beam.py:490\u001b[0m, in \u001b[0;36mRectangularBeam.check_flexure\u001b[1;34m(self, forces)\u001b[0m\n\u001b[0;32m    486\u001b[0m     result \u001b[38;5;241m=\u001b[39m _check_flexure_ACI_318_19(\u001b[38;5;28mself\u001b[39m, force)\n\u001b[0;32m    487\u001b[0m \u001b[38;5;66;03m# elif self.concrete.design_code==\"EN 1992-2004\":\u001b[39;00m\n\u001b[0;32m    488\u001b[0m \u001b[38;5;66;03m#     result =  _check_shear_EN_1992_2004(self, force)\u001b[39;00m\n\u001b[0;32m    489\u001b[0m \u001b[38;5;28;01melse\u001b[39;00m:\n\u001b[1;32m--> 490\u001b[0m     \u001b[38;5;28;01mraise\u001b[39;00m \u001b[38;5;167;01mValueError\u001b[39;00m(\n\u001b[0;32m    491\u001b[0m         \u001b[38;5;124mf\u001b[39m\u001b[38;5;124m\"\u001b[39m\u001b[38;5;124mFlexure design method not implemented for concrete type: \u001b[39m\u001b[38;5;132;01m{\u001b[39;00m\u001b[38;5;28mtype\u001b[39m(\u001b[38;5;28mself\u001b[39m\u001b[38;5;241m.\u001b[39mconcrete)\u001b[38;5;241m.\u001b[39m\u001b[38;5;18m__name__\u001b[39m\u001b[38;5;132;01m}\u001b[39;00m\u001b[38;5;124m\"\u001b[39m\n\u001b[0;32m    492\u001b[0m     )  \u001b[38;5;66;03m# noqa: E501\u001b[39;00m\n\u001b[0;32m    493\u001b[0m \u001b[38;5;28mself\u001b[39m\u001b[38;5;241m.\u001b[39m_flexure_results_list\u001b[38;5;241m.\u001b[39mappend(result)\n\u001b[0;32m    495\u001b[0m \u001b[38;5;66;03m# Store detailed results for this force\u001b[39;00m\n",
      "\u001b[1;31mValueError\u001b[0m: Flexure design method not implemented for concrete type: Concrete_EN_1992_2004"
     ]
    }
   ],
   "source": [
    "# Print flexure results in more detailed format in a DataFrame\n",
    "node_1.check_flexure()"
   ]
  },
  {
   "cell_type": "markdown",
   "metadata": {},
   "source": [
    "**Export table results to Excel**"
   ]
  },
  {
   "cell_type": "code",
   "execution_count": 8,
   "metadata": {},
   "outputs": [],
   "source": [
    "node_1.check_shear().to_excel('EN 1992-1-1 shear_results.xlsx')\n",
    "# node_1.check_flexure().to_excel('EN 1992-1-1 flexure_results.xlsx')"
   ]
  },
  {
   "cell_type": "markdown",
   "metadata": {},
   "source": [
    "**View complete and detailed results for the limiting case of the list of forces**"
   ]
  },
  {
   "cell_type": "code",
   "execution_count": 9,
   "metadata": {},
   "outputs": [
    {
     "name": "stdout",
     "output_type": "stream",
     "text": [
      "===== BEAM SHEAR DETAILED RESULTS =====\n",
      "Materials                                               Variable     Value  Unit\n",
      "-----------------------------------------------------  ----------  -------  ------\n",
      "Section Label                                                          101\n",
      "Concrete strength                                         fck           25  MPa\n",
      "Steel reinforcement yield strength                        fywk         500  MPa\n",
      "Safety factor for concrete                                 γc          1.5\n",
      "Safety factor for steel                                    γs         1.15\n",
      "Coefficient for long term effects and loading effects     αcc            1 \n",
      "\n",
      "Geometry                     Variable     Value  Unit\n",
      "--------------------------  ----------  -------  ------\n",
      "Section height                  h            50  cm\n",
      "Section width                   b            20  cm\n",
      "Clear cover                   rgeom         2.5  cm\n",
      "Longitudinal tension rebar      As         2.26  cm² \n",
      "\n",
      "Design forces                     Variable     Value  Unit\n",
      "-------------------------------  ----------  -------  ------\n",
      "Axial, positive for compression     NEd            0  kN\n",
      "Shear                              VEd,2          55  kN \n",
      "\n",
      "Shear reinforcement strength     Variable     Value  Unit\n",
      "------------------------------  ----------  -------  ------\n",
      "Number of stirrups                  ns            1\n",
      "Stirrup diameter                    db            6  mm\n",
      "Stirrup spacing                     s            20  cm\n",
      "Effective height                    d       46.1439  cm\n",
      "Minimum shear reinforcing        Asw,min        1.6  cm²/m\n",
      "Required shear reinforcing       Asw,req        1.6  cm²/m\n",
      "Defined shear reinforcing          Asw         2.83  cm²/m\n",
      "Shear rebar strength              VRd,s      127.64  kN \n",
      "\n",
      "Check                          Unit     Value  Min.    Max.    Ok?\n",
      "----------------------------  ------  -------  ------  ------  -----\n",
      "Stirrup spacing along length    cm         20          34.61   ✔️\n",
      "Stirrup spacing along width     cm       14.4          34.61   ✔️\n",
      "Minimum shear reinforcement   cm²/m      2.83  1.6             ✔️ \n",
      "\n",
      "Shear strength                     Variable     Value  Unit\n",
      "--------------------------------  ----------  -------  ------\n",
      "Longitudinal reinforcement ratio      ρl       0.5583\n",
      "k value                               k          1.66\n",
      "Axial stress                         σcd          0.0  MPa\n",
      "Concrete strut angle                  Θ          21.8  deg\n",
      "Concrete strength                   VRd,c           0  kN\n",
      "Maximum shear strength             VRd,max     257.76  kN\n",
      "Total shear strength                 VRd       127.64  kN\n",
      "Max shear check                                     ✔️\n",
      "Demand Capacity Ratio                DCR         0.43  ✔️ \n",
      "\n"
     ]
    }
   ],
   "source": [
    "# View detailed shear results\n",
    "node_1.shear_results_detailed()"
   ]
  },
  {
   "cell_type": "code",
   "execution_count": null,
   "metadata": {},
   "outputs": [
    {
     "name": "stdout",
     "output_type": "stream",
     "text": [
      "===== BEAM FLEXURE DETAILED RESULTS =====\n",
      "Materials                            Variable     Value  Unit\n",
      "----------------------------------  ----------  -------  ------\n",
      "Section Label                                       101\n",
      "Concrete strength                       fc           25  MPa\n",
      "Steel reinforcement yield strength      fy          420  MPa \n",
      "\n",
      "Geometry                  Variable     Value  Unit\n",
      "-----------------------  ----------  -------  ------\n",
      "Section height               h            50  cm\n",
      "Section width                b            20  cm\n",
      "Clear cover                  cc          2.5  cm\n",
      "Mechanical top cover       cm,top        4.1  cm\n",
      "Mechanical bottom cover    cm,bot       4.26  cm \n",
      "\n",
      "Design forces       Variable     Value  Unit\n",
      "-----------------  ----------  -------  ------\n",
      "Top max moment       Mu,top        -30  kNm\n",
      "Bottom max moment    Mu,bot         80  kNm \n",
      "\n",
      "Check                     Unit     Value  Min.    Max.    Ok?\n",
      "-----------------------  ------  -------  ------  ------  -----\n",
      "Min/Max As rebar top      cm²       2.26  3.06    14.62   ❌\n",
      "Minimum spacing top        mm        110  30              ✔️\n",
      "Min/Max As rebar bottom   cm²       5.15  3.05    14.57   ✔️\n",
      "Minimum spacing bottom     mm         45  25              ✔️ \n",
      "\n",
      "Top reinforcement check                    Variable     Value  Unit\n",
      "----------------------------------------  ----------  -------  ------\n",
      "First layer bars                            n1+n2        2Ø12\n",
      "Second layer bars                           n3+n4           -\n",
      "Effective height                              d          45.9  cm\n",
      "Depth of equivalent strength block ratio     c/d         0.04\n",
      "Minimum rebar reinforcing                   As,min       3.06  cm²\n",
      "Required rebar reinforcing top            As,req top     3.06  cm²\n",
      "Required rebar reinforcing bottom         As,req bot        0  cm²\n",
      "Defined rebar reinforcing top                 As         2.26  cm²\n",
      "Longitudinal reinforcement ratio              ρl      0.56124\n",
      "Total flexural strength                      ØMn        38.29  kNm\n",
      "Demand Capacity Ratio                        DCR         0.78  ✔️ \n",
      "\n",
      "Bottom reinforcement check                 Variable       Value  Unit\n",
      "----------------------------------------  ----------  ---------  ------\n",
      "First layer bars                            n1+n2     2Ø16+1Ø12\n",
      "Second layer bars                           n3+n4             -\n",
      "Effective height                              d           45.74  cm\n",
      "Depth of equivalent strength block ratio     c/d           0.12\n",
      "Minimum rebar reinforcing                   As,min         3.05  cm²\n",
      "Required rebar reinforcing bottom         As,req top          0  cm²\n",
      "Required rebar reinforcing top            As,req bot       4.88  cm²\n",
      "Defined rebar reinforcing bottom              As           5.15  cm²\n",
      "Longitudinal reinforcement ratio              ρl        0.56316\n",
      "Total flexural strength                      ØMn          84.13  kNm\n",
      "Demand Capacity Ratio                        DCR           0.95  ✔️ \n",
      "\n"
     ]
    }
   ],
   "source": [
    "# View detailed flexure results\n",
    "node_1.flexure_results_detailed()"
   ]
  },
  {
   "cell_type": "markdown",
   "metadata": {},
   "source": [
    "**Export detailed results to a Word document**"
   ]
  },
  {
   "cell_type": "code",
   "execution_count": 10,
   "metadata": {},
   "outputs": [],
   "source": [
    "node_1.shear_results_detailed_doc()\n",
    "# node_1.flexure_results_detailed_doc()"
   ]
  }
 ],
 "metadata": {
  "kernelspec": {
   "display_name": "rame-env",
   "language": "python",
   "name": "python3"
  },
  "language_info": {
   "codemirror_mode": {
    "name": "ipython",
    "version": 3
   },
   "file_extension": ".py",
   "mimetype": "text/x-python",
   "name": "python",
   "nbconvert_exporter": "python",
   "pygments_lexer": "ipython3",
   "version": "3.12.9"
  }
 },
 "nbformat": 4,
 "nbformat_minor": 2
}
