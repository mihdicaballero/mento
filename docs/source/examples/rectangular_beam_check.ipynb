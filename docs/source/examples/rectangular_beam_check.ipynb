{
 "cells": [
  {
   "cell_type": "markdown",
   "metadata": {},
   "source": [
    "# Rectangular Beam check"
   ]
  },
  {
   "cell_type": "markdown",
   "metadata": {
    "vscode": {
     "languageId": "plaintext"
    }
   },
   "source": [
    "**Define concrete and steel materials, and then assign the beam**"
   ]
  },
  {
   "cell_type": "code",
   "execution_count": 2,
   "metadata": {},
   "outputs": [
    {
     "data": {
      "text/markdown": [
       "Beam 101, $b$=20.00 cm, $h$=50.00 cm, $c_{c}$=2.50 cm,                             Concrete C25, Rebar ADN 420."
      ],
      "text/plain": [
       "<IPython.core.display.Markdown object>"
      ]
     },
     "metadata": {},
     "output_type": "display_data"
    }
   ],
   "source": [
    "from mento import Concrete_ACI_318_19, SteelBar, RectangularBeam, mm, cm, kN, MPa, kNm\n",
    "from mento import Forces, Node\n",
    "\n",
    "# Define materials\n",
    "concrete = Concrete_ACI_318_19(name=\"C25\", f_c=25*MPa)\n",
    "steel = SteelBar(name=\"ADN 420\", f_y=420*MPa)\n",
    "\n",
    "# Define beam geometry\n",
    "beam = RectangularBeam(label=\"101\", concrete=concrete, steel_bar=steel, width=20*cm, height=50*cm)\n",
    "beam.data"
   ]
  },
  {
   "cell_type": "markdown",
   "metadata": {},
   "source": [
    "**Set longitudinal and transverse reinforcement**"
   ]
  },
  {
   "cell_type": "code",
   "execution_count": 3,
   "metadata": {},
   "outputs": [
    {
     "data": {
      "image/png": "[encoded data removed]",
      "text/plain": [
       "<Figure size 640x480 with 1 Axes>"
      ]
     },
     "metadata": {},
     "output_type": "display_data"
    }
   ],
   "source": [
    "# Set bottom longitudinal reinforcement\n",
    "beam.set_longitudinal_rebar_bot(n1=2, d_b1=16*mm, n2=1, d_b2=12*mm)\n",
    "\n",
    "# Set top longitudinal reinforcement\n",
    "beam.set_longitudinal_rebar_top(n1=2, d_b1=12*mm)\n",
    "\n",
    "# Set transverse reinforcement (stirrups)\n",
    "beam.set_transverse_rebar(n_stirrups=1, d_b=10*mm, s_l=20*cm)\n",
    "\n",
    "# Plot the beam geometry and reinforcement\n",
    "beam.plot()"
   ]
  },
  {
   "cell_type": "markdown",
   "metadata": {},
   "source": [
    "**Define list of forces applied to the beam**"
   ]
  },
  {
   "cell_type": "code",
   "execution_count": 4,
   "metadata": {},
   "outputs": [
    {
     "name": "stdout",
     "output_type": "stream",
     "text": [
      "Force ID: 1, Label: 1.4D, N_x: 0.00 kN, V_z: 50.00 kN, M_y: 80.00 kN·m\n",
      "Force ID: 2, Label: 1.2D+1.6L, N_x: 0.00 kN, V_z: 55.00 kN, M_y: -30.00 kN·m\n"
     ]
    }
   ],
   "source": [
    "# Define forces\n",
    "f1 = Forces(label='1.4D', V_z=50*kN, M_y=80*kNm)\n",
    "f2 = Forces(label='1.2D+1.6L', V_z=55*kN, M_y=-30*kNm)\n",
    "print(f1)\n",
    "print(f2)"
   ]
  },
  {
   "cell_type": "markdown",
   "metadata": {},
   "source": [
    "**Create node and assign beam section and list of forces**"
   ]
  },
  {
   "cell_type": "code",
   "execution_count": 5,
   "metadata": {},
   "outputs": [
    {
     "data": {
      "text/plain": [
       "Node ID: 1 - Section label: 101\n",
       "Forces Applied:\n",
       "  - Force ID: 1, Label: 1.4D, N_x: 0.00 kN, V_z: 50.00 kN, M_y: 80.00 kN·m\n",
       "  - Force ID: 2, Label: 1.2D+1.6L, N_x: 0.00 kN, V_z: 55.00 kN, M_y: -30.00 kN·m"
      ]
     },
     "execution_count": 5,
     "metadata": {},
     "output_type": "execute_result"
    }
   ],
   "source": [
    "node_1 = Node(section=beam, forces=[f1, f2])\n",
    "node_1"
   ]
  },
  {
   "cell_type": "markdown",
   "metadata": {},
   "source": [
    "**Perform shear and bending checks**"
   ]
  },
  {
   "cell_type": "code",
   "execution_count": 6,
   "metadata": {},
   "outputs": [
    {
     "data": {
      "text/markdown": [
       "Beam 101, $b$=20.00 cm, $h$=50.00 cm, $c_{c}$=2.50 cm,                             Concrete C25, Rebar ADN 420."
      ],
      "text/plain": [
       "<IPython.core.display.Markdown object>"
      ]
     },
     "metadata": {},
     "output_type": "display_data"
    },
    {
     "data": {
      "text/markdown": [
       "Top longitudinal rebar: 2Ø12, $A_{s,top}$ = 2.26 cm², $M_u$ = -30 kNm, $\\phi M_n$ = 38.29 kNm → $\\color{#439b00}{\\text{DCR}=0.78}$ ⚠️ Some checks failed, see detailed results.\n",
       "\n",
       "Bottom longitudinal rebar: 2Ø16+1Ø12, $A_{s,bot}$ = 5.15 cm², $M_u$ = 80 kNm, $\\phi M_n$ = 84.13 kNm → $\\color{#efc200}{\\text{DCR}=0.95}$ "
      ],
      "text/plain": [
       "<IPython.core.display.Markdown object>"
      ]
     },
     "metadata": {},
     "output_type": "display_data"
    },
    {
     "data": {
      "text/markdown": [
       "Shear reinforcing 1eØ10/20 cm, $A_v$=7.85 cm²/m, $V_u$=55 kN, $\\phi V_n$=171.49 kN → $\\color{#439b00}{\\text{DCR}=0.32}$ "
      ],
      "text/plain": [
       "<IPython.core.display.Markdown object>"
      ]
     },
     "metadata": {},
     "output_type": "display_data"
    }
   ],
   "source": [
    "# Perform all checks \n",
    "node_1.check_shear()\n",
    "node_1.check_flexure()\n",
    "# Print results in Markdown format\n",
    "node_1.results"
   ]
  },
  {
   "cell_type": "code",
   "execution_count": 7,
   "metadata": {},
   "outputs": [
    {
     "data": {
      "text/html": [
       "<div>\n",
       "<style scoped>\n",
       "    .dataframe tbody tr th:only-of-type {\n",
       "        vertical-align: middle;\n",
       "    }\n",
       "\n",
       "    .dataframe tbody tr th {\n",
       "        vertical-align: top;\n",
       "    }\n",
       "\n",
       "    .dataframe thead th {\n",
       "        text-align: right;\n",
       "    }\n",
       "</style>\n",
       "<table border=\"1\" class=\"dataframe\">\n",
       "  <thead>\n",
       "    <tr style=\"text-align: right;\">\n",
       "      <th></th>\n",
       "      <th>Section Label</th>\n",
       "      <th>Load Combo</th>\n",
       "      <th>Av,min</th>\n",
       "      <th>Av,req</th>\n",
       "      <th>Av</th>\n",
       "      <th>Vu</th>\n",
       "      <th>Nu</th>\n",
       "      <th>ØVc</th>\n",
       "      <th>ØVs</th>\n",
       "      <th>ØVn</th>\n",
       "      <th>ØVmax</th>\n",
       "      <th>Vu&lt;ØVmax</th>\n",
       "      <th>Vu&lt;ØVn</th>\n",
       "      <th>DCR</th>\n",
       "    </tr>\n",
       "  </thead>\n",
       "  <tbody>\n",
       "    <tr>\n",
       "      <th>0</th>\n",
       "      <td>101</td>\n",
       "      <td>1.4D</td>\n",
       "      <td>1.67 cm²/m</td>\n",
       "      <td>1.67 cm²/m</td>\n",
       "      <td>7.85 cm²/m</td>\n",
       "      <td>50.00 kN</td>\n",
       "      <td>0.00 kN</td>\n",
       "      <td>58.32 kN</td>\n",
       "      <td>113.17 kN</td>\n",
       "      <td>171.49 kN</td>\n",
       "      <td>284.76 kN</td>\n",
       "      <td>True</td>\n",
       "      <td>True</td>\n",
       "      <td>0.292</td>\n",
       "    </tr>\n",
       "    <tr>\n",
       "      <th>1</th>\n",
       "      <td>101</td>\n",
       "      <td>1.2D+1.6L</td>\n",
       "      <td>1.67 cm²/m</td>\n",
       "      <td>1.67 cm²/m</td>\n",
       "      <td>7.85 cm²/m</td>\n",
       "      <td>55.00 kN</td>\n",
       "      <td>0.00 kN</td>\n",
       "      <td>58.32 kN</td>\n",
       "      <td>113.17 kN</td>\n",
       "      <td>171.49 kN</td>\n",
       "      <td>284.76 kN</td>\n",
       "      <td>True</td>\n",
       "      <td>True</td>\n",
       "      <td>0.321</td>\n",
       "    </tr>\n",
       "  </tbody>\n",
       "</table>\n",
       "</div>"
      ],
      "text/plain": [
       "  Section Label Load Combo      Av,min      Av,req          Av        Vu  \\\n",
       "0           101       1.4D  1.67 cm²/m  1.67 cm²/m  7.85 cm²/m  50.00 kN   \n",
       "1           101  1.2D+1.6L  1.67 cm²/m  1.67 cm²/m  7.85 cm²/m  55.00 kN   \n",
       "\n",
       "        Nu       ØVc        ØVs        ØVn      ØVmax  Vu<ØVmax  Vu<ØVn    DCR  \n",
       "0  0.00 kN  58.32 kN  113.17 kN  171.49 kN  284.76 kN      True    True  0.292  \n",
       "1  0.00 kN  58.32 kN  113.17 kN  171.49 kN  284.76 kN      True    True  0.321  "
      ]
     },
     "execution_count": 7,
     "metadata": {},
     "output_type": "execute_result"
    }
   ],
   "source": [
    "# Print shear results in more detailed format in a DataFrame\n",
    "node_1.check_shear()"
   ]
  },
  {
   "cell_type": "code",
   "execution_count": 8,
   "metadata": {},
   "outputs": [
    {
     "data": {
      "text/html": [
       "<div>\n",
       "<style scoped>\n",
       "    .dataframe tbody tr th:only-of-type {\n",
       "        vertical-align: middle;\n",
       "    }\n",
       "\n",
       "    .dataframe tbody tr th {\n",
       "        vertical-align: top;\n",
       "    }\n",
       "\n",
       "    .dataframe thead th {\n",
       "        text-align: right;\n",
       "    }\n",
       "</style>\n",
       "<table border=\"1\" class=\"dataframe\">\n",
       "  <thead>\n",
       "    <tr style=\"text-align: right;\">\n",
       "      <th></th>\n",
       "      <th>Section Label</th>\n",
       "      <th>Load Combo</th>\n",
       "      <th>Position</th>\n",
       "      <th>As,min</th>\n",
       "      <th>As,req top</th>\n",
       "      <th>As,req bot</th>\n",
       "      <th>As</th>\n",
       "      <th>Mu</th>\n",
       "      <th>ØMn</th>\n",
       "      <th>Mu&lt;ØMn</th>\n",
       "      <th>DCR</th>\n",
       "    </tr>\n",
       "  </thead>\n",
       "  <tbody>\n",
       "    <tr>\n",
       "      <th>0</th>\n",
       "      <td>101</td>\n",
       "      <td>1.4D</td>\n",
       "      <td>Bottom</td>\n",
       "      <td>3.05 cm²</td>\n",
       "      <td>0.00 cm²</td>\n",
       "      <td>4.88 cm²</td>\n",
       "      <td>5.15 cm²</td>\n",
       "      <td>80.00 kN·m</td>\n",
       "      <td>84.13 kN·m</td>\n",
       "      <td>True</td>\n",
       "      <td>0.951</td>\n",
       "    </tr>\n",
       "    <tr>\n",
       "      <th>1</th>\n",
       "      <td>101</td>\n",
       "      <td>1.2D+1.6L</td>\n",
       "      <td>Top</td>\n",
       "      <td>3.06 cm²</td>\n",
       "      <td>3.06 cm²</td>\n",
       "      <td>0.00 cm²</td>\n",
       "      <td>2.26 cm²</td>\n",
       "      <td>-30.00 kN·m</td>\n",
       "      <td>38.29 kN·m</td>\n",
       "      <td>True</td>\n",
       "      <td>0.784</td>\n",
       "    </tr>\n",
       "  </tbody>\n",
       "</table>\n",
       "</div>"
      ],
      "text/plain": [
       "  Section Label Load Combo Position    As,min As,req top As,req bot        As  \\\n",
       "0           101       1.4D   Bottom  3.05 cm²   0.00 cm²   4.88 cm²  5.15 cm²   \n",
       "1           101  1.2D+1.6L      Top  3.06 cm²   3.06 cm²   0.00 cm²  2.26 cm²   \n",
       "\n",
       "            Mu         ØMn  Mu<ØMn    DCR  \n",
       "0   80.00 kN·m  84.13 kN·m    True  0.951  \n",
       "1  -30.00 kN·m  38.29 kN·m    True  0.784  "
      ]
     },
     "execution_count": 8,
     "metadata": {},
     "output_type": "execute_result"
    }
   ],
   "source": [
    "# Print flexure results in more detailed format in a DataFrame\n",
    "node_1.check_flexure()"
   ]
  },
  {
   "cell_type": "markdown",
   "metadata": {},
   "source": [
    "**Export table results to Excel**"
   ]
  },
  {
   "cell_type": "code",
   "execution_count": 13,
   "metadata": {},
   "outputs": [],
   "source": [
    "node_1.check_shear().to_excel('ACI 318-19 shear_results.xlsx')\n",
    "node_1.check_flexure().to_excel('ACI 318-19 flexure_results.xlsx')"
   ]
  },
  {
   "cell_type": "markdown",
   "metadata": {},
   "source": [
    "**View complete and detailed results for the limiting case of the list of forces**"
   ]
  },
  {
   "cell_type": "code",
   "execution_count": 10,
   "metadata": {},
   "outputs": [
    {
     "name": "stdout",
     "output_type": "stream",
     "text": [
      "===== BEAM SHEAR DETAILED RESULTS =====\n",
      "Materials                            Variable     Value  Unit\n",
      "----------------------------------  ----------  -------  ------\n",
      "Section Label                                       101\n",
      "Concrete strength                       fc           25  MPa\n",
      "Steel reinforcement yield strength      fy          420  MPa\n",
      "Concrete density                        wc         2500  kg/m³\n",
      "Normalweight concrete                   λ             1\n",
      "Safety factor for shear                 Øv         0.75 \n",
      "\n",
      "Geometry                     Variable     Value  Unit\n",
      "--------------------------  ----------  -------  ------\n",
      "Section height                  h            50  cm\n",
      "Section width                   b            20  cm\n",
      "Clear cover                     cc          2.5  cm\n",
      "Longitudinal tension rebar      As         2.26  cm² \n",
      "\n",
      "Design forces                     Variable     Value  Unit\n",
      "-------------------------------  ----------  -------  ------\n",
      "Axial, positive for compression      Nu            0  kN\n",
      "Shear                                Vu           55  kN \n",
      "\n",
      "Shear reinforcement strength     Variable     Value  Unit\n",
      "------------------------------  ----------  -------  ------\n",
      "Number of stirrups                  ns            1\n",
      "Stirrup diameter                    db           10  mm\n",
      "Stirrup spacing                     s            20  cm\n",
      "Effective height                    d       45.7439  cm\n",
      "Minimum shear reinforcing         Av,min       1.67  cm²/m\n",
      "Required shear reinforcing        Av,req       1.67  cm²/m\n",
      "Defined shear reinforcing           Av         7.85  cm²/m\n",
      "Shear rebar strength               ØVs       113.17  kN \n",
      "\n",
      "Check                          Unit     Value  Min.    Max.    Ok?\n",
      "----------------------------  ------  -------  ------  ------  -----\n",
      "Stirrup spacing along length    cm         20          22.87   ✔️\n",
      "Stirrup spacing along width     cm         14          45.74   ✔️\n",
      "Minimum shear reinforcement   cm²/m      7.85  1.67            ✔️\n",
      "Minimum rebar diameter          mm         10  10              ✔️ \n",
      "\n",
      "Shear strength                     Variable     Value  Unit\n",
      "--------------------------------  ----------  -------  ------\n",
      "Effective shear area                 Acv       914.88  cm²\n",
      "Longitudinal reinforcement ratio      ρw      0.00247\n",
      "Size modification factor              λs        0.841\n",
      "Axial stress                         σNu          0.0  MPa\n",
      "Concrete effective shear stress       kc         0.85  MPa\n",
      "Concrete strength                    ØVc        58.32  kN\n",
      "Maximum shear strength              ØVmax      284.76  kN\n",
      "Total shear strength                 ØVn       171.49  kN\n",
      "Max shear check                                    ✔️\n",
      "Demand Capacity Ratio                DCR         0.32  ✔️ \n",
      "\n"
     ]
    }
   ],
   "source": [
    "# View detailed shear results\n",
    "node_1.shear_results_detailed()"
   ]
  },
  {
   "cell_type": "code",
   "execution_count": 11,
   "metadata": {},
   "outputs": [
    {
     "name": "stdout",
     "output_type": "stream",
     "text": [
      "===== BEAM FLEXURE DETAILED RESULTS =====\n",
      "Materials                            Variable     Value  Unit\n",
      "----------------------------------  ----------  -------  ------\n",
      "Section Label                                       101\n",
      "Concrete strength                       fc           25  MPa\n",
      "Steel reinforcement yield strength      fy          420  MPa \n",
      "\n",
      "Geometry                  Variable     Value  Unit\n",
      "-----------------------  ----------  -------  ------\n",
      "Section height               h            50  cm\n",
      "Section width                b            20  cm\n",
      "Clear cover                  cc          2.5  cm\n",
      "Mechanical top cover       cm,top        4.1  cm\n",
      "Mechanical bottom cover    cm,bot       4.26  cm \n",
      "\n",
      "Design forces       Variable     Value  Unit\n",
      "-----------------  ----------  -------  ------\n",
      "Top max moment       Mu,top        -30  kNm\n",
      "Bottom max moment    Mu,bot         80  kNm \n",
      "\n",
      "Check                     Unit     Value  Min.    Max.    Ok?\n",
      "-----------------------  ------  -------  ------  ------  -----\n",
      "Min/Max As rebar top      cm²       2.26  3.06    14.62   ❌\n",
      "Minimum spacing top        mm        110  30              ✔️\n",
      "Min/Max As rebar bottom   cm²       5.15  3.05    14.57   ✔️\n",
      "Minimum spacing bottom     mm         45  25              ✔️ \n",
      "\n",
      "Top reinforcement check                    Variable     Value  Unit\n",
      "----------------------------------------  ----------  -------  ------\n",
      "First layer bars                            n1+n2        2Ø12\n",
      "Second layer bars                           n3+n4           -\n",
      "Effective height                              d          45.9  cm\n",
      "Depth of equivalent strength block ratio     c/d         0.04\n",
      "Minimum rebar reinforcing                   As,min       3.06  cm²\n",
      "Required rebar reinforcing top            As,req top     3.06  cm²\n",
      "Required rebar reinforcing bottom         As,req bot        0  cm²\n",
      "Defined rebar reinforcing top                 As         2.26  cm²\n",
      "Longitudinal reinforcement ratio              ρl      0.56124\n",
      "Total flexural strength                      ØMn        38.29  kNm\n",
      "Demand Capacity Ratio                        DCR         0.78  ✔️ \n",
      "\n",
      "Bottom reinforcement check                 Variable       Value  Unit\n",
      "----------------------------------------  ----------  ---------  ------\n",
      "First layer bars                            n1+n2     2Ø16+1Ø12\n",
      "Second layer bars                           n3+n4             -\n",
      "Effective height                              d           45.74  cm\n",
      "Depth of equivalent strength block ratio     c/d           0.12\n",
      "Minimum rebar reinforcing                   As,min         3.05  cm²\n",
      "Required rebar reinforcing bottom         As,req top          0  cm²\n",
      "Required rebar reinforcing top            As,req bot       4.88  cm²\n",
      "Defined rebar reinforcing bottom              As           5.15  cm²\n",
      "Longitudinal reinforcement ratio              ρl        0.56316\n",
      "Total flexural strength                      ØMn          84.13  kNm\n",
      "Demand Capacity Ratio                        DCR           0.95  ✔️ \n",
      "\n"
     ]
    }
   ],
   "source": [
    "# View detailed flexure results\n",
    "node_1.flexure_results_detailed()"
   ]
  },
  {
   "cell_type": "markdown",
   "metadata": {},
   "source": [
    "**Export detailed results to a Word document**"
   ]
  },
  {
   "cell_type": "code",
   "execution_count": 12,
   "metadata": {},
   "outputs": [],
   "source": [
    "node_1.shear_results_detailed_doc()\n",
    "node_1.flexure_results_detailed_doc()"
   ]
  }
 ],
 "metadata": {
  "kernelspec": {
   "display_name": "mento-env",
   "language": "python",
   "name": "python3"
  },
  "language_info": {
   "codemirror_mode": {
    "name": "ipython",
    "version": 3
   },
   "file_extension": ".py",
   "mimetype": "text/x-python",
   "name": "python",
   "nbconvert_exporter": "python",
   "pygments_lexer": "ipython3",
   "version": "3.12.9"
  }
 },
 "nbformat": 4,
 "nbformat_minor": 2
}
