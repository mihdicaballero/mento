{
 "cells": [
  {
   "cell_type": "markdown",
   "metadata": {},
   "source": [
    "# One Way Slab check ACI 318-19"
   ]
  },
  {
   "cell_type": "markdown",
   "metadata": {
    "vscode": {
     "languageId": "plaintext"
    }
   },
   "source": [
    "**Define concrete and steel materials, and then assign the beam**"
   ]
  },
  {
   "cell_type": "code",
   "execution_count": 4,
   "metadata": {},
   "outputs": [
    {
     "data": {
      "text/markdown": [
       "Slab 101, $b$=150.00 cm, $h$=20.00 cm, $c_{c}$=2.00 cm,                             Concrete H25, Rebar ADN 500."
      ],
      "text/plain": [
       "<IPython.core.display.Markdown object>"
      ]
     },
     "metadata": {},
     "output_type": "display_data"
    }
   ],
   "source": [
    "from mento import Concrete_ACI_318_19, SteelBar, OneWaySlab, Node, Forces\n",
    "from mento import MPa, cm, kN, mm, kNm\n",
    "# Define materials and beam section\n",
    "conc = Concrete_ACI_318_19(name=\"H25\", f_c=25*MPa)\n",
    "steel = SteelBar(name=\"ADN 500\", f_y=420 * MPa)\n",
    "slab = OneWaySlab(label=\"101\",concrete=conc,steel_bar=steel,width=150*cm, height=20*cm, c_c = 20*mm)\n",
    "slab.data"
   ]
  },
  {
   "cell_type": "markdown",
   "metadata": {},
   "source": [
    "**Set longitudinal reinforcement**"
   ]
  },
  {
   "cell_type": "code",
   "execution_count": 12,
   "metadata": {},
   "outputs": [
    {
     "data": {
      "image/png": "[encoded data removed]",
      "text/plain": [
       "<Figure size 640x480 with 1 Axes>"
      ]
     },
     "metadata": {},
     "output_type": "display_data"
    }
   ],
   "source": [
    "# Set bottom rebar\n",
    "slab.set_slab_longitudinal_rebar_bot(d_b1=16 * mm, s_b1 = 10* cm)\n",
    "# Set top rebar\n",
    "slab.set_slab_longitudinal_rebar_top(d_b1=16 * mm, s_b1 = 20 * cm)\n",
    "\n",
    "# Plot the beam geometry and reinforcement\n",
    "slab.plot()"
   ]
  },
  {
   "cell_type": "markdown",
   "metadata": {},
   "source": [
    "**Create node and assign slab section and list of forces**"
   ]
  },
  {
   "cell_type": "code",
   "execution_count": 13,
   "metadata": {},
   "outputs": [
    {
     "data": {
      "text/plain": [
       "Node ID: 3 - Section label: 101\n",
       "Forces Applied:\n",
       "  - Force ID: 5, Label: 1.4D, N_x: 0.00 kN, V_z: 40.00 kN, M_y: 60.00 kN·m\n",
       "  - Force ID: 6, Label: 1.2D+1.6L, N_x: 0.00 kN, V_z: 50.00 kN, M_y: -60.00 kN·m"
      ]
     },
     "execution_count": 13,
     "metadata": {},
     "output_type": "execute_result"
    }
   ],
   "source": [
    "# Define forces\n",
    "f1 = Forces(label='1.4D', V_z=40*kN, M_y=60*kNm)\n",
    "f2 = Forces(label='1.2D+1.6L', V_z=50*kN, M_y=-60*kNm)\n",
    "forces_list=[f1, f2]\n",
    "# Create node and assign beam section and list of forces\n",
    "node_1 = Node(section=slab, forces=[f1, f2])\n",
    "node_1"
   ]
  },
  {
   "cell_type": "markdown",
   "metadata": {},
   "source": [
    "**Perform shear and bending checks**"
   ]
  },
  {
   "cell_type": "code",
   "execution_count": 14,
   "metadata": {},
   "outputs": [
    {
     "data": {
      "text/markdown": [
       "Slab 101, $b$=150.00 cm, $h$=20.00 cm, $c_{c}$=2.00 cm,                             Concrete H25, Rebar ADN 500."
      ],
      "text/plain": [
       "<IPython.core.display.Markdown object>"
      ]
     },
     "metadata": {},
     "output_type": "display_data"
    },
    {
     "data": {
      "text/markdown": [
       "Top longitudinal rebar: 8Ø16, $A_{s,top}$ = 16.08 cm², $M_u$ = -60 kNm, $\\phi M_n$ = 98.13 kNm → $\\color{#439b00}{\\text{DCR}=0.61}$ \n",
       "\n",
       "Bottom longitudinal rebar: 15Ø16, $A_{s,bot}$ = 30.16 cm², $M_u$ = 60 kNm, $\\phi M_n$ = 173.43 kNm → $\\color{#439b00}{\\text{DCR}=0.35}$ "
      ],
      "text/plain": [
       "<IPython.core.display.Markdown object>"
      ]
     },
     "metadata": {},
     "output_type": "display_data"
    },
    {
     "data": {
      "text/markdown": [
       "Shear reinforcing not assigned, $A_v$=0.0 cm²/m, $V_u$=50 kN, $\\phi V_n$=164.48 kN → $\\color{#439b00}{\\text{DCR}=0.3}$ "
      ],
      "text/plain": [
       "<IPython.core.display.Markdown object>"
      ]
     },
     "metadata": {},
     "output_type": "display_data"
    }
   ],
   "source": [
    "# Perform all checks \n",
    "node_1.check_shear()\n",
    "node_1.check_flexure()\n",
    "# Print results in Markdown format\n",
    "node_1.results"
   ]
  },
  {
   "cell_type": "code",
   "execution_count": 15,
   "metadata": {},
   "outputs": [
    {
     "data": {
      "text/html": [
       "<div>\n",
       "<style scoped>\n",
       "    .dataframe tbody tr th:only-of-type {\n",
       "        vertical-align: middle;\n",
       "    }\n",
       "\n",
       "    .dataframe tbody tr th {\n",
       "        vertical-align: top;\n",
       "    }\n",
       "\n",
       "    .dataframe thead th {\n",
       "        text-align: right;\n",
       "    }\n",
       "</style>\n",
       "<table border=\"1\" class=\"dataframe\">\n",
       "  <thead>\n",
       "    <tr style=\"text-align: right;\">\n",
       "      <th></th>\n",
       "      <th>Label</th>\n",
       "      <th>Comb.</th>\n",
       "      <th>Av,min</th>\n",
       "      <th>Av,req</th>\n",
       "      <th>Av</th>\n",
       "      <th>Vu</th>\n",
       "      <th>Nu</th>\n",
       "      <th>ØVc</th>\n",
       "      <th>ØVs</th>\n",
       "      <th>ØVn</th>\n",
       "      <th>ØVmax</th>\n",
       "      <th>Vu≤ØVmax</th>\n",
       "      <th>Vu≤ØVn</th>\n",
       "      <th>DCR</th>\n",
       "    </tr>\n",
       "  </thead>\n",
       "  <tbody>\n",
       "    <tr>\n",
       "      <th>0</th>\n",
       "      <td></td>\n",
       "      <td></td>\n",
       "      <td>cm²/m</td>\n",
       "      <td>cm²/m</td>\n",
       "      <td>cm²/m</td>\n",
       "      <td>kN</td>\n",
       "      <td>kN</td>\n",
       "      <td>kN</td>\n",
       "      <td>kN</td>\n",
       "      <td>kN</td>\n",
       "      <td>kN</td>\n",
       "      <td></td>\n",
       "      <td></td>\n",
       "      <td></td>\n",
       "    </tr>\n",
       "    <tr>\n",
       "      <th>1</th>\n",
       "      <td>101</td>\n",
       "      <td>1.4D</td>\n",
       "      <td>0.0</td>\n",
       "      <td>0.0</td>\n",
       "      <td>0.0</td>\n",
       "      <td>40</td>\n",
       "      <td>0</td>\n",
       "      <td>164.48</td>\n",
       "      <td>0</td>\n",
       "      <td>164.48</td>\n",
       "      <td>803.03</td>\n",
       "      <td>True</td>\n",
       "      <td>True</td>\n",
       "      <td>0.243</td>\n",
       "    </tr>\n",
       "    <tr>\n",
       "      <th>2</th>\n",
       "      <td>101</td>\n",
       "      <td>1.2D+1.6L</td>\n",
       "      <td>0.0</td>\n",
       "      <td>0.0</td>\n",
       "      <td>0.0</td>\n",
       "      <td>50</td>\n",
       "      <td>0</td>\n",
       "      <td>164.48</td>\n",
       "      <td>0</td>\n",
       "      <td>164.48</td>\n",
       "      <td>803.03</td>\n",
       "      <td>True</td>\n",
       "      <td>True</td>\n",
       "      <td>0.304</td>\n",
       "    </tr>\n",
       "  </tbody>\n",
       "</table>\n",
       "</div>"
      ],
      "text/plain": [
       "  Label      Comb. Av,min Av,req     Av  Vu  Nu     ØVc ØVs     ØVn   ØVmax  \\\n",
       "0                   cm²/m  cm²/m  cm²/m  kN  kN      kN  kN      kN      kN   \n",
       "1   101       1.4D    0.0    0.0    0.0  40   0  164.48   0  164.48  803.03   \n",
       "2   101  1.2D+1.6L    0.0    0.0    0.0  50   0  164.48   0  164.48  803.03   \n",
       "\n",
       "  Vu≤ØVmax Vu≤ØVn    DCR  \n",
       "0                         \n",
       "1     True   True  0.243  \n",
       "2     True   True  0.304  "
      ]
     },
     "execution_count": 15,
     "metadata": {},
     "output_type": "execute_result"
    }
   ],
   "source": [
    "# Print shear results in more detailed format in a DataFrame\n",
    "node_1.check_shear()"
   ]
  },
  {
   "cell_type": "code",
   "execution_count": 16,
   "metadata": {},
   "outputs": [
    {
     "data": {
      "text/html": [
       "<div>\n",
       "<style scoped>\n",
       "    .dataframe tbody tr th:only-of-type {\n",
       "        vertical-align: middle;\n",
       "    }\n",
       "\n",
       "    .dataframe tbody tr th {\n",
       "        vertical-align: top;\n",
       "    }\n",
       "\n",
       "    .dataframe thead th {\n",
       "        text-align: right;\n",
       "    }\n",
       "</style>\n",
       "<table border=\"1\" class=\"dataframe\">\n",
       "  <thead>\n",
       "    <tr style=\"text-align: right;\">\n",
       "      <th></th>\n",
       "      <th>Label</th>\n",
       "      <th>Comb.</th>\n",
       "      <th>Position</th>\n",
       "      <th>As,min</th>\n",
       "      <th>As,req top</th>\n",
       "      <th>As,req bot</th>\n",
       "      <th>As</th>\n",
       "      <th>Mu</th>\n",
       "      <th>ØMn</th>\n",
       "      <th>Mu≤ØMn</th>\n",
       "      <th>DCR</th>\n",
       "    </tr>\n",
       "  </thead>\n",
       "  <tbody>\n",
       "    <tr>\n",
       "      <th>0</th>\n",
       "      <td></td>\n",
       "      <td></td>\n",
       "      <td></td>\n",
       "      <td>cm²</td>\n",
       "      <td>cm²</td>\n",
       "      <td>cm²</td>\n",
       "      <td>cm²</td>\n",
       "      <td>kNm</td>\n",
       "      <td>kNm</td>\n",
       "      <td></td>\n",
       "      <td></td>\n",
       "    </tr>\n",
       "    <tr>\n",
       "      <th>1</th>\n",
       "      <td>101</td>\n",
       "      <td>1.4D</td>\n",
       "      <td>Bottom</td>\n",
       "      <td>8.6</td>\n",
       "      <td>0.0</td>\n",
       "      <td>9.58</td>\n",
       "      <td>30.16</td>\n",
       "      <td>60</td>\n",
       "      <td>173.43</td>\n",
       "      <td>True</td>\n",
       "      <td>0.346</td>\n",
       "    </tr>\n",
       "    <tr>\n",
       "      <th>2</th>\n",
       "      <td>101</td>\n",
       "      <td>1.2D+1.6L</td>\n",
       "      <td>Top</td>\n",
       "      <td>8.6</td>\n",
       "      <td>9.58</td>\n",
       "      <td>0.0</td>\n",
       "      <td>16.08</td>\n",
       "      <td>-60</td>\n",
       "      <td>98.13</td>\n",
       "      <td>True</td>\n",
       "      <td>0.611</td>\n",
       "    </tr>\n",
       "  </tbody>\n",
       "</table>\n",
       "</div>"
      ],
      "text/plain": [
       "  Label      Comb. Position As,min As,req top As,req bot     As   Mu     ØMn  \\\n",
       "0                              cm²        cm²        cm²    cm²  kNm     kNm   \n",
       "1   101       1.4D   Bottom    8.6        0.0       9.58  30.16   60  173.43   \n",
       "2   101  1.2D+1.6L      Top    8.6       9.58        0.0  16.08  -60   98.13   \n",
       "\n",
       "  Mu≤ØMn    DCR  \n",
       "0                \n",
       "1   True  0.346  \n",
       "2   True  0.611  "
      ]
     },
     "execution_count": 16,
     "metadata": {},
     "output_type": "execute_result"
    }
   ],
   "source": [
    "# Print flexure results in more detailed format in a DataFrame\n",
    "node_1.check_flexure()"
   ]
  },
  {
   "cell_type": "markdown",
   "metadata": {},
   "source": [
    "**Export table results to Excel**"
   ]
  },
  {
   "cell_type": "code",
   "execution_count": null,
   "metadata": {},
   "outputs": [],
   "source": [
    "node_1.check_shear().to_excel('ACI 318-19 shear_results.xlsx')\n",
    "node_1.check_flexure().to_excel('ACI 318-19 flexure_results.xlsx')"
   ]
  },
  {
   "cell_type": "markdown",
   "metadata": {},
   "source": [
    "**View complete and detailed results for the limiting case of the list of forces**"
   ]
  },
  {
   "cell_type": "code",
   "execution_count": 17,
   "metadata": {},
   "outputs": [
    {
     "name": "stdout",
     "output_type": "stream",
     "text": [
      "===== BEAM SHEAR DETAILED RESULTS =====\n",
      "Materials                            Variable     Value  Unit\n",
      "----------------------------------  ----------  -------  ------\n",
      "Section Label                                       101\n",
      "Concrete strength                       fc           25  MPa\n",
      "Steel reinforcement yield strength      fy          420  MPa\n",
      "Concrete density                        wc         2500  kg/m³\n",
      "Normalweight concrete                   λ             1\n",
      "Safety factor for shear                 Øv         0.75 \n",
      "\n",
      "Geometry                     Variable     Value  Unit\n",
      "--------------------------  ----------  -------  ------\n",
      "Section height                  h            20  cm\n",
      "Section width                   b           150  cm\n",
      "Clear cover                     cc            2  cm\n",
      "Longitudinal tension rebar      As        16.08  cm² \n",
      "\n",
      "Design forces                     Variable     Value  Unit\n",
      "-------------------------------  ----------  -------  ------\n",
      "Axial, positive for compression      Nu            0  kN\n",
      "Shear                                Vu           50  kN \n",
      "\n",
      "Shear reinforcement strength     Variable     Value  Unit\n",
      "------------------------------  ----------  -------  ------\n",
      "Number of stirrups                  ns            0\n",
      "Stirrup diameter                    db            0  mm\n",
      "Stirrup spacing                     s             0  cm\n",
      "Effective height                    d          17.2  cm\n",
      "Minimum shear reinforcing         Av,min          0  cm²/m\n",
      "Required shear reinforcing        Av,req          0  cm²/m\n",
      "Defined shear reinforcing           Av            0  cm²/m\n",
      "Shear rebar strength               ØVs            0  kN \n",
      "\n",
      "Check                          Unit     Value  Min.    Max.    Ok?\n",
      "----------------------------  ------  -------  ------  ------  -----\n",
      "Stirrup spacing along length    cm          0          8.6     ✔️\n",
      "Stirrup spacing along width     cm          0          17.2    ✔️\n",
      "Minimum shear reinforcement   cm²/m         0  0.0             ✔️\n",
      "Minimum rebar diameter          mm          0  0               ✔️ \n",
      "\n",
      "Shear strength                     Variable     Value  Unit\n",
      "--------------------------------  ----------  -------  ------\n",
      "Effective shear area                 Acv       2580.0  cm²\n",
      "Longitudinal reinforcement ratio      ρw      0.00623\n",
      "Size modification factor              λs        1.089\n",
      "Axial stress                         σNu          0.0  MPa\n",
      "Concrete effective shear stress       kc         0.85  MPa\n",
      "Concrete strength                    ØVc       164.48  kN\n",
      "Maximum shear strength              ØVmax      803.03  kN\n",
      "Total shear strength                 ØVn       164.48  kN\n",
      "Max shear check                                    ✔️\n",
      "Demand Capacity Ratio                DCR          0.3  ✔️ \n",
      "\n"
     ]
    }
   ],
   "source": [
    "# View detailed shear results\n",
    "node_1.shear_results_detailed()"
   ]
  },
  {
   "cell_type": "code",
   "execution_count": 18,
   "metadata": {},
   "outputs": [
    {
     "name": "stdout",
     "output_type": "stream",
     "text": [
      "===== BEAM FLEXURE DETAILED RESULTS =====\n",
      "Materials                            Variable     Value  Unit\n",
      "----------------------------------  ----------  -------  ------\n",
      "Section Label                                       101\n",
      "Concrete strength                       fc           25  MPa\n",
      "Steel reinforcement yield strength      fy          420  MPa \n",
      "\n",
      "Geometry                  Variable     Value  Unit\n",
      "-----------------------  ----------  -------  ------\n",
      "Section height               h            20  cm\n",
      "Section width                b           150  cm\n",
      "Clear cover                  cc            2  cm\n",
      "Mechanical top cover       cm,top        2.8  cm\n",
      "Mechanical bottom cover    cm,bot        2.8  cm \n",
      "\n",
      "Design_forces       Variable     Value  Unit\n",
      "-----------------  ----------  -------  ------\n",
      "Top max moment       Mu,top        -60  kNm\n",
      "Bottom max moment    Mu,bot         60  kNm \n",
      "\n",
      "Check                     Unit     Value  Min.    Max.    Ok?\n",
      "-----------------------  ------  -------  ------  ------  -----\n",
      "Min/Max As rebar top      cm²      16.08  8.6     41.09   ✔️\n",
      "Minimum spacing top        mm     190.29  30              ✔️\n",
      "Min/Max As rebar bottom   cm²      30.16  8.6     41.09   ✔️\n",
      "Minimum spacing bottom     mm      87.14  25              ✔️ \n",
      "\n",
      "Top reinforcement check                    Variable     Value  Unit\n",
      "----------------------------------------  ----------  -------  ------\n",
      "First layer bars                            n1+n2        8Ø16\n",
      "Second layer bars                           n3+n4           -\n",
      "Effective height                              d          17.2  cm\n",
      "Depth of equivalent strength block ratio     c/d         0.09\n",
      "Minimum rebar reinforcing                   As,min        8.6  cm²\n",
      "Required rebar reinforcing top            As,req top     9.58  cm²\n",
      "Required rebar reinforcing bottom         As,req bot        0  cm²\n",
      "Defined rebar reinforcing top                 As        16.08  cm²\n",
      "Longitudinal reinforcement ratio              ρl      1.16896\n",
      "Total flexural strength                      ØMn        98.13  kNm\n",
      "Demand Capacity Ratio                        DCR         0.61  ✔️ \n",
      "\n",
      "Bottom reinforcement check                 Variable     Value  Unit\n",
      "----------------------------------------  ----------  -------  ------\n",
      "First layer bars                            n1+n2       15Ø16\n",
      "Second layer bars                           n3+n4           -\n",
      "Effective height                              d          17.2  cm\n",
      "Depth of equivalent strength block ratio     c/d         0.09\n",
      "Minimum rebar reinforcing                   As,min        8.6  cm²\n",
      "Required rebar reinforcing bottom         As,req top        0  cm²\n",
      "Required rebar reinforcing top            As,req bot     9.58  cm²\n",
      "Defined rebar reinforcing bottom              As        30.16  cm²\n",
      "Longitudinal reinforcement ratio              ρl      1.16896\n",
      "Total flexural strength                      ØMn       173.43  kNm\n",
      "Demand Capacity Ratio                        DCR         0.35  ✔️ \n",
      "\n"
     ]
    }
   ],
   "source": [
    "# View detailed flexure results\n",
    "node_1.flexure_results_detailed()"
   ]
  },
  {
   "cell_type": "markdown",
   "metadata": {},
   "source": [
    "**Export detailed results to a Word document**"
   ]
  },
  {
   "cell_type": "code",
   "execution_count": null,
   "metadata": {},
   "outputs": [],
   "source": [
    "node_1.shear_results_detailed_doc()\n",
    "node_1.flexure_results_detailed_doc()"
   ]
  }
 ],
 "metadata": {
  "kernelspec": {
   "display_name": "mento-env",
   "language": "python",
   "name": "python3"
  },
  "language_info": {
   "codemirror_mode": {
    "name": "ipython",
    "version": 3
   },
   "file_extension": ".py",
   "mimetype": "text/x-python",
   "name": "python",
   "nbconvert_exporter": "python",
   "pygments_lexer": "ipython3",
   "version": "3.12.9"
  }
 },
 "nbformat": 4,
 "nbformat_minor": 2
}
