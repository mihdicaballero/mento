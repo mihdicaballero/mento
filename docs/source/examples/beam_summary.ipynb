{
 "cells": [
  {
   "cell_type": "markdown",
   "metadata": {},
   "source": [
    "# Beam summary"
   ]
  },
  {
   "cell_type": "markdown",
   "metadata": {},
   "source": [
    "**Create input dataframe**"
   ]
  },
  {
   "cell_type": "markdown",
   "metadata": {},
   "source": [
    "This is an example creating the DataFrame directly in the cell but it's easier to load it from an Excel file, as is explained in the User Guide."
   ]
  },
  {
   "cell_type": "code",
   "execution_count": null,
   "metadata": {},
   "outputs": [],
   "source": [
    "from mento import MPa\n",
    "from mento import BeamSummary, Concrete_ACI_318_19, SteelBar\n",
    "import pandas as pd\n",
    "\n",
    "conc = Concrete_ACI_318_19(name=\"C25\", f_c=25*MPa)\n",
    "steel = SteelBar(name=\"ADN 420\", f_y=420*MPa)\n",
    "data = {'Label': ['', 'V101', 'V102', 'V103', 'V104'],\n",
    "        'b': ['cm', 20, 20, 20, 20],\n",
    "        'h': ['cm', 50, 50, 50, 50],\n",
    "        'Nx': ['kN', 0, 0, 0, 0],\n",
    "        'Vz': ['kN', 20, -50, 100, 100],\n",
    "        'My': ['kNm', 0, -35, 40, 45],\n",
    "        'ns': ['', 0, 1.0, 1.0, 1.0],\n",
    "        'dbs': ['mm', 0, 6, 6, 6],\n",
    "        'sl': ['cm', 0, 20, 20, 20],\n",
    "        'n1': ['', 2.0, 2, 2.0, 2.0],\n",
    "        'db1': ['mm', 12, 12, 12, 12],\n",
    "        'n2': ['', 1.0, 1, 1.0, 0.0],\n",
    "        'db2': ['mm', 10, 16, 10, 0],\n",
    "        'n3': ['', 2.0, 0.0, 2.0, 0.0],\n",
    "        'db3': ['mm', 12, 0, 16, 0],\n",
    "        'n4': ['', 0, 0.0, 0, 0.0],\n",
    "        'db4': ['mm', 0, 0, 0, 0]}\n",
    "input_df = pd.DataFrame(data)\n",
    "\n",
    "beam_summary = BeamSummary(concrete=conc, steel_bar=steel, beam_list=input_df)\n",
    "# Beam summary input data\n",
    "beam_summary.data"
   ]
  },
  {
   "cell_type": "markdown",
   "metadata": {},
   "source": [
    "**Check all beams for shear and flexure**"
   ]
  },
  {
   "cell_type": "code",
   "execution_count": null,
   "metadata": {},
   "outputs": [],
   "source": [
    "beam_summary.check()"
   ]
  },
  {
   "cell_type": "markdown",
   "metadata": {},
   "source": [
    "**Calculate capacity for all beams for shear and flexure**"
   ]
  },
  {
   "cell_type": "code",
   "execution_count": null,
   "metadata": {},
   "outputs": [],
   "source": [
    "beam_summary.check(capacity_check=True)"
   ]
  },
  {
   "cell_type": "markdown",
   "metadata": {},
   "source": [
    "**Export results to excel**"
   ]
  },
  {
   "cell_type": "code",
   "execution_count": null,
   "metadata": {},
   "outputs": [],
   "source": [
    "beam_summary.check().to_excel('Beam summary results.xlsx', index=False)"
   ]
  },
  {
   "cell_type": "markdown",
   "metadata": {},
   "source": [
    "**See detailed results for shear check**"
   ]
  },
  {
   "cell_type": "code",
   "execution_count": null,
   "metadata": {},
   "outputs": [],
   "source": [
    "beam_summary.shear_results()\n",
    "# See the same results for capacity check, without DCR\n",
    "# beam_summary.shear_results(capacity_check=True)"
   ]
  },
  {
   "cell_type": "markdown",
   "metadata": {},
   "source": [
    "**More detailed results**"
   ]
  },
  {
   "cell_type": "code",
   "execution_count": null,
   "metadata": {},
   "outputs": [],
   "source": [
    "# See more complete and specific detailed results for shear check for a specific beam index of the summary\n",
    "beam_summary.nodes[1].shear_results_detailed()"
   ]
  }
 ],
 "metadata": {
  "kernelspec": {
   "display_name": "mento-env",
   "language": "python",
   "name": "python3"
  },
  "language_info": {
   "codemirror_mode": {
    "name": "ipython",
    "version": 3
   },
   "file_extension": ".py",
   "mimetype": "text/x-python",
   "name": "python",
   "nbconvert_exporter": "python",
   "pygments_lexer": "ipython3",
   "version": "3.12.9"
  }
 },
 "nbformat": 4,
 "nbformat_minor": 2
}
