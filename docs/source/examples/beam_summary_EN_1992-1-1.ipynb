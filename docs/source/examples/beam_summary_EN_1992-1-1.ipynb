{
 "cells": [
  {
   "cell_type": "markdown",
   "metadata": {},
   "source": [
    "# Beam summary with EN 1992-1-1"
   ]
  },
  {
   "cell_type": "markdown",
   "metadata": {},
   "source": [
    "**Create input dataframe**"
   ]
  },
  {
   "cell_type": "markdown",
   "metadata": {},
   "source": [
    "This is an example creating the DataFrame directly in the cell but it's easier to load it from an Excel file, as is explained in the User Guide."
   ]
  },
  {
   "cell_type": "code",
   "execution_count": 7,
   "metadata": {},
   "outputs": [
    {
     "data": {
      "text/html": [
       "<div>\n",
       "<style scoped>\n",
       "    .dataframe tbody tr th:only-of-type {\n",
       "        vertical-align: middle;\n",
       "    }\n",
       "\n",
       "    .dataframe tbody tr th {\n",
       "        vertical-align: top;\n",
       "    }\n",
       "\n",
       "    .dataframe thead th {\n",
       "        text-align: right;\n",
       "    }\n",
       "</style>\n",
       "<table border=\"1\" class=\"dataframe\">\n",
       "  <thead>\n",
       "    <tr style=\"text-align: right;\">\n",
       "      <th></th>\n",
       "      <th>Label</th>\n",
       "      <th>Comb.</th>\n",
       "      <th>b</th>\n",
       "      <th>h</th>\n",
       "      <th>cc</th>\n",
       "      <th>Nx</th>\n",
       "      <th>Vz</th>\n",
       "      <th>My</th>\n",
       "      <th>ns</th>\n",
       "      <th>dbs</th>\n",
       "      <th>sl</th>\n",
       "      <th>n1</th>\n",
       "      <th>db1</th>\n",
       "      <th>n2</th>\n",
       "      <th>db2</th>\n",
       "      <th>n3</th>\n",
       "      <th>db3</th>\n",
       "      <th>n4</th>\n",
       "      <th>db4</th>\n",
       "    </tr>\n",
       "  </thead>\n",
       "  <tbody>\n",
       "    <tr>\n",
       "      <th>1</th>\n",
       "      <td>V101</td>\n",
       "      <td>ELU 1</td>\n",
       "      <td>20.00 cm</td>\n",
       "      <td>50.00 cm</td>\n",
       "      <td>25.00 mm</td>\n",
       "      <td>0.00 kN</td>\n",
       "      <td>20.00 kN</td>\n",
       "      <td>0.00 kN·m</td>\n",
       "      <td>0</td>\n",
       "      <td>0.00 mm</td>\n",
       "      <td>0.00 cm</td>\n",
       "      <td>2</td>\n",
       "      <td>12.00 mm</td>\n",
       "      <td>1</td>\n",
       "      <td>10.00 mm</td>\n",
       "      <td>2</td>\n",
       "      <td>12.00 mm</td>\n",
       "      <td>0</td>\n",
       "      <td>0.00 mm</td>\n",
       "    </tr>\n",
       "    <tr>\n",
       "      <th>2</th>\n",
       "      <td>V102</td>\n",
       "      <td>ELU 2</td>\n",
       "      <td>20.00 cm</td>\n",
       "      <td>50.00 cm</td>\n",
       "      <td>25.00 mm</td>\n",
       "      <td>0.00 kN</td>\n",
       "      <td>-50.00 kN</td>\n",
       "      <td>-35.00 kN·m</td>\n",
       "      <td>1</td>\n",
       "      <td>6.00 mm</td>\n",
       "      <td>20.00 cm</td>\n",
       "      <td>2</td>\n",
       "      <td>12.00 mm</td>\n",
       "      <td>1</td>\n",
       "      <td>16.00 mm</td>\n",
       "      <td>0</td>\n",
       "      <td>0.00 mm</td>\n",
       "      <td>0</td>\n",
       "      <td>0.00 mm</td>\n",
       "    </tr>\n",
       "    <tr>\n",
       "      <th>3</th>\n",
       "      <td>V103</td>\n",
       "      <td>ELU 3</td>\n",
       "      <td>20.00 cm</td>\n",
       "      <td>50.00 cm</td>\n",
       "      <td>25.00 mm</td>\n",
       "      <td>0.00 kN</td>\n",
       "      <td>100.00 kN</td>\n",
       "      <td>40.00 kN·m</td>\n",
       "      <td>1</td>\n",
       "      <td>6.00 mm</td>\n",
       "      <td>20.00 cm</td>\n",
       "      <td>2</td>\n",
       "      <td>12.00 mm</td>\n",
       "      <td>1</td>\n",
       "      <td>10.00 mm</td>\n",
       "      <td>2</td>\n",
       "      <td>16.00 mm</td>\n",
       "      <td>0</td>\n",
       "      <td>0.00 mm</td>\n",
       "    </tr>\n",
       "    <tr>\n",
       "      <th>4</th>\n",
       "      <td>V104</td>\n",
       "      <td>ELU 4</td>\n",
       "      <td>20.00 cm</td>\n",
       "      <td>50.00 cm</td>\n",
       "      <td>25.00 mm</td>\n",
       "      <td>0.00 kN</td>\n",
       "      <td>100.00 kN</td>\n",
       "      <td>45.00 kN·m</td>\n",
       "      <td>1</td>\n",
       "      <td>6.00 mm</td>\n",
       "      <td>20.00 cm</td>\n",
       "      <td>2</td>\n",
       "      <td>12.00 mm</td>\n",
       "      <td>0</td>\n",
       "      <td>0.00 mm</td>\n",
       "      <td>0</td>\n",
       "      <td>0.00 mm</td>\n",
       "      <td>0</td>\n",
       "      <td>0.00 mm</td>\n",
       "    </tr>\n",
       "  </tbody>\n",
       "</table>\n",
       "</div>"
      ],
      "text/plain": [
       "  Label  Comb.         b         h        cc       Nx         Vz           My  \\\n",
       "1  V101  ELU 1  20.00 cm  50.00 cm  25.00 mm  0.00 kN   20.00 kN    0.00 kN·m   \n",
       "2  V102  ELU 2  20.00 cm  50.00 cm  25.00 mm  0.00 kN  -50.00 kN  -35.00 kN·m   \n",
       "3  V103  ELU 3  20.00 cm  50.00 cm  25.00 mm  0.00 kN  100.00 kN   40.00 kN·m   \n",
       "4  V104  ELU 4  20.00 cm  50.00 cm  25.00 mm  0.00 kN  100.00 kN   45.00 kN·m   \n",
       "\n",
       "   ns      dbs        sl  n1       db1  n2       db2  n3       db3  n4  \\\n",
       "1   0  0.00 mm   0.00 cm   2  12.00 mm   1  10.00 mm   2  12.00 mm   0   \n",
       "2   1  6.00 mm  20.00 cm   2  12.00 mm   1  16.00 mm   0   0.00 mm   0   \n",
       "3   1  6.00 mm  20.00 cm   2  12.00 mm   1  10.00 mm   2  16.00 mm   0   \n",
       "4   1  6.00 mm  20.00 cm   2  12.00 mm   0   0.00 mm   0   0.00 mm   0   \n",
       "\n",
       "       db4  \n",
       "1  0.00 mm  \n",
       "2  0.00 mm  \n",
       "3  0.00 mm  \n",
       "4  0.00 mm  "
      ]
     },
     "execution_count": 7,
     "metadata": {},
     "output_type": "execute_result"
    }
   ],
   "source": [
    "from mento import MPa\n",
    "from mento import BeamSummary, Concrete_EN_1992_2004, SteelBar\n",
    "import pandas as pd\n",
    "\n",
    "conc = Concrete_EN_1992_2004(name=\"H25\", f_c=25*MPa)\n",
    "steel = SteelBar(name=\"ADN 500\", f_y=500*MPa)\n",
    "data = {'Label': ['', 'V101', 'V102', 'V103', 'V104'],\n",
    "        \"Comb.\": [\"\", \"ELU 1\", \"ELU 2\", \"ELU 3\", \"ELU 4\"],\n",
    "        'b': ['cm', 20, 20, 20, 20],\n",
    "        'h': ['cm', 50, 50, 50, 50],\n",
    "        \"cc\": [\"mm\", 25, 25, 25, 25],\n",
    "        'Nx': ['kN', 0, 0, 0, 0],\n",
    "        'Vz': ['kN', 20, -50, 100, 100],\n",
    "        'My': ['kNm', 0, -35, 40, 45],\n",
    "        'ns': ['', 0, 1.0, 1.0, 1.0],\n",
    "        'dbs': ['mm', 0, 6, 6, 6],\n",
    "        'sl': ['cm', 0, 20, 20, 20],\n",
    "        'n1': ['', 2.0, 2, 2.0, 2.0],\n",
    "        'db1': ['mm', 12, 12, 12, 12],\n",
    "        'n2': ['', 1.0, 1, 1.0, 0.0],\n",
    "        'db2': ['mm', 10, 16, 10, 0],\n",
    "        'n3': ['', 2.0, 0.0, 2.0, 0.0],\n",
    "        'db3': ['mm', 12, 0, 16, 0],\n",
    "        'n4': ['', 0, 0.0, 0, 0.0],\n",
    "        'db4': ['mm', 0, 0, 0, 0]}\n",
    "input_df = pd.DataFrame(data)\n",
    "\n",
    "beam_summary = BeamSummary(concrete=conc, steel_bar=steel, beam_list=input_df)\n",
    "# Beam summary input data\n",
    "beam_summary.data"
   ]
  },
  {
   "cell_type": "markdown",
   "metadata": {},
   "source": [
    "**Check all beams for shear and flexure**"
   ]
  },
  {
   "cell_type": "code",
   "execution_count": 8,
   "metadata": {},
   "outputs": [
    {
     "ename": "ValueError",
     "evalue": "Flexure design method not implemented for concrete type: Concrete_EN_1992_2004",
     "output_type": "error",
     "traceback": [
      "\u001b[1;31m---------------------------------------------------------------------------\u001b[0m",
      "\u001b[1;31mValueError\u001b[0m                                Traceback (most recent call last)",
      "Cell \u001b[1;32mIn[8], line 1\u001b[0m\n\u001b[1;32m----> 1\u001b[0m \u001b[43mbeam_summary\u001b[49m\u001b[38;5;241;43m.\u001b[39;49m\u001b[43mcheck\u001b[49m\u001b[43m(\u001b[49m\u001b[43m)\u001b[49m\n",
      "File \u001b[1;32m~\\Documents\\GitHub\\mento\\mento\\summary.py:281\u001b[0m, in \u001b[0;36mBeamSummary.check\u001b[1;34m(self, capacity_check)\u001b[0m\n\u001b[0;32m    275\u001b[0m \u001b[38;5;28;01melse\u001b[39;00m:\n\u001b[0;32m    276\u001b[0m     \u001b[38;5;66;03m# Perform the shear check\u001b[39;00m\n\u001b[0;32m    277\u001b[0m     shear_results \u001b[38;5;241m=\u001b[39m (\n\u001b[0;32m    278\u001b[0m         node\u001b[38;5;241m.\u001b[39mcheck_shear()\u001b[38;5;241m.\u001b[39miloc[\u001b[38;5;241m1\u001b[39m:]\u001b[38;5;241m.\u001b[39mreset_index(drop\u001b[38;5;241m=\u001b[39m\u001b[38;5;28;01mTrue\u001b[39;00m)\n\u001b[0;32m    279\u001b[0m     )  \u001b[38;5;66;03m# Skip the first row (units)\u001b[39;00m\n\u001b[0;32m    280\u001b[0m     flexure_results \u001b[38;5;241m=\u001b[39m (\n\u001b[1;32m--> 281\u001b[0m         \u001b[43mnode\u001b[49m\u001b[38;5;241;43m.\u001b[39;49m\u001b[43mcheck_flexure\u001b[49m\u001b[43m(\u001b[49m\u001b[43m)\u001b[49m\u001b[38;5;241m.\u001b[39miloc[\u001b[38;5;241m1\u001b[39m:]\u001b[38;5;241m.\u001b[39mreset_index(drop\u001b[38;5;241m=\u001b[39m\u001b[38;5;28;01mTrue\u001b[39;00m)\n\u001b[0;32m    282\u001b[0m     )  \u001b[38;5;66;03m# Skip the first row (units)\u001b[39;00m\n\u001b[0;32m    283\u001b[0m     \u001b[38;5;66;03m# Common data that doesn't change between codes\u001b[39;00m\n\u001b[0;32m    284\u001b[0m     common_data \u001b[38;5;241m=\u001b[39m {\n\u001b[0;32m    285\u001b[0m         \u001b[38;5;124m\"\u001b[39m\u001b[38;5;124mBeam\u001b[39m\u001b[38;5;124m\"\u001b[39m: beam\u001b[38;5;241m.\u001b[39mlabel,\n\u001b[0;32m    286\u001b[0m         \u001b[38;5;124m\"\u001b[39m\u001b[38;5;124mb\u001b[39m\u001b[38;5;124m\"\u001b[39m: \u001b[38;5;28mint\u001b[39m(beam\u001b[38;5;241m.\u001b[39mwidth\u001b[38;5;241m.\u001b[39mmagnitude),\n\u001b[1;32m   (...)\u001b[0m\n\u001b[0;32m    298\u001b[0m         \u001b[38;5;124m\"\u001b[39m\u001b[38;5;124mDCRv\u001b[39m\u001b[38;5;124m\"\u001b[39m: shear_results[\u001b[38;5;124m\"\u001b[39m\u001b[38;5;124mDCR\u001b[39m\u001b[38;5;124m\"\u001b[39m][\u001b[38;5;241m0\u001b[39m],\n\u001b[0;32m    299\u001b[0m     }\n",
      "File \u001b[1;32m~\\Documents\\GitHub\\mento\\mento\\node.py:90\u001b[0m, in \u001b[0;36mNode.check_flexure\u001b[1;34m(self)\u001b[0m\n\u001b[0;32m     89\u001b[0m \u001b[38;5;28;01mdef\u001b[39;00m \u001b[38;5;21mcheck_flexure\u001b[39m(\u001b[38;5;28mself\u001b[39m) \u001b[38;5;241m-\u001b[39m\u001b[38;5;241m>\u001b[39m pd\u001b[38;5;241m.\u001b[39mDataFrame:\n\u001b[1;32m---> 90\u001b[0m     \u001b[38;5;28;01mreturn\u001b[39;00m \u001b[38;5;28;43mself\u001b[39;49m\u001b[38;5;241;43m.\u001b[39;49m\u001b[43msection\u001b[49m\u001b[38;5;241;43m.\u001b[39;49m\u001b[43mcheck_flexure\u001b[49m\u001b[43m(\u001b[49m\u001b[38;5;28;43mself\u001b[39;49m\u001b[38;5;241;43m.\u001b[39;49m\u001b[43mforces\u001b[49m\u001b[43m)\u001b[49m\n",
      "File \u001b[1;32m~\\Documents\\GitHub\\mento\\mento\\beam.py:551\u001b[0m, in \u001b[0;36mRectangularBeam.check_flexure\u001b[1;34m(self, forces)\u001b[0m\n\u001b[0;32m    547\u001b[0m     result \u001b[38;5;241m=\u001b[39m _check_flexure_ACI_318_19(\u001b[38;5;28mself\u001b[39m, force)\n\u001b[0;32m    548\u001b[0m \u001b[38;5;66;03m# elif self.concrete.design_code==\"EN 1992-2004\":\u001b[39;00m\n\u001b[0;32m    549\u001b[0m \u001b[38;5;66;03m#     result =  _check_shear_EN_1992_2004(self, force)\u001b[39;00m\n\u001b[0;32m    550\u001b[0m \u001b[38;5;28;01melse\u001b[39;00m:\n\u001b[1;32m--> 551\u001b[0m     \u001b[38;5;28;01mraise\u001b[39;00m \u001b[38;5;167;01mValueError\u001b[39;00m(\n\u001b[0;32m    552\u001b[0m         \u001b[38;5;124mf\u001b[39m\u001b[38;5;124m\"\u001b[39m\u001b[38;5;124mFlexure design method not implemented for concrete type: \u001b[39m\u001b[38;5;132;01m{\u001b[39;00m\u001b[38;5;28mtype\u001b[39m(\u001b[38;5;28mself\u001b[39m\u001b[38;5;241m.\u001b[39mconcrete)\u001b[38;5;241m.\u001b[39m\u001b[38;5;18m__name__\u001b[39m\u001b[38;5;132;01m}\u001b[39;00m\u001b[38;5;124m\"\u001b[39m\n\u001b[0;32m    553\u001b[0m     )  \u001b[38;5;66;03m# noqa: E501\u001b[39;00m\n\u001b[0;32m    554\u001b[0m \u001b[38;5;28mself\u001b[39m\u001b[38;5;241m.\u001b[39m_flexure_results_list\u001b[38;5;241m.\u001b[39mappend(result)\n\u001b[0;32m    556\u001b[0m \u001b[38;5;66;03m# Store detailed results for this force\u001b[39;00m\n",
      "\u001b[1;31mValueError\u001b[0m: Flexure design method not implemented for concrete type: Concrete_EN_1992_2004"
     ]
    }
   ],
   "source": [
    "beam_summary.check()"
   ]
  },
  {
   "cell_type": "markdown",
   "metadata": {},
   "source": [
    "**Calculate capacity for all beams for shear and flexure**"
   ]
  },
  {
   "cell_type": "code",
   "execution_count": null,
   "metadata": {},
   "outputs": [],
   "source": [
    "beam_summary.check(capacity_check=True)"
   ]
  },
  {
   "cell_type": "markdown",
   "metadata": {},
   "source": [
    "**Export results to excel**"
   ]
  },
  {
   "cell_type": "code",
   "execution_count": null,
   "metadata": {},
   "outputs": [],
   "source": [
    "beam_summary.check().to_excel('Beam summary results.xlsx', index=False)"
   ]
  },
  {
   "cell_type": "markdown",
   "metadata": {},
   "source": [
    "**See detailed results for shear check**"
   ]
  },
  {
   "cell_type": "code",
   "execution_count": null,
   "metadata": {},
   "outputs": [],
   "source": [
    "beam_summary.shear_results()\n",
    "# See the same results for capacity check, without DCR\n",
    "# beam_summary.shear_results(capacity_check=True)"
   ]
  },
  {
   "cell_type": "markdown",
   "metadata": {},
   "source": [
    "**See detailed results for flexure check**"
   ]
  },
  {
   "cell_type": "code",
   "execution_count": null,
   "metadata": {},
   "outputs": [
    {
     "ename": "ValueError",
     "evalue": "Flexure design method not implemented for concrete type: Concrete_EN_1992_2004",
     "output_type": "error",
     "traceback": [
      "\u001b[1;31m---------------------------------------------------------------------------\u001b[0m",
      "\u001b[1;31mValueError\u001b[0m                                Traceback (most recent call last)",
      "Cell \u001b[1;32mIn[6], line 1\u001b[0m\n\u001b[1;32m----> 1\u001b[0m \u001b[43mbeam_summary\u001b[49m\u001b[38;5;241;43m.\u001b[39;49m\u001b[43mflexure_results\u001b[49m\u001b[43m(\u001b[49m\u001b[43m)\u001b[49m\n\u001b[0;32m      2\u001b[0m \u001b[38;5;66;03m# See the same results for capacity check, without DCR\u001b[39;00m\n\u001b[0;32m      3\u001b[0m \u001b[38;5;66;03m# beam_summary.flexure_results(capacity_check=True)\u001b[39;00m\n",
      "File \u001b[1;32m~\\Documents\\GitHub\\mento\\mento\\summary.py:436\u001b[0m, in \u001b[0;36mBeamSummary.flexure_results\u001b[1;34m(self, index, capacity_check)\u001b[0m\n\u001b[0;32m    434\u001b[0m units_row_added \u001b[38;5;241m=\u001b[39m \u001b[38;5;28;01mFalse\u001b[39;00m\n\u001b[0;32m    435\u001b[0m \u001b[38;5;28;01mfor\u001b[39;00m item \u001b[38;5;129;01min\u001b[39;00m \u001b[38;5;28mself\u001b[39m\u001b[38;5;241m.\u001b[39mnodes:\n\u001b[1;32m--> 436\u001b[0m     df \u001b[38;5;241m=\u001b[39m \u001b[38;5;28;43mself\u001b[39;49m\u001b[38;5;241;43m.\u001b[39;49m\u001b[43m_process_beam_for_check\u001b[49m\u001b[43m(\u001b[49m\u001b[43mitem\u001b[49m\u001b[43m,\u001b[49m\u001b[43m \u001b[49m\u001b[38;5;124;43m\"\u001b[39;49m\u001b[38;5;124;43mflexure\u001b[39;49m\u001b[38;5;124;43m\"\u001b[39;49m\u001b[43m,\u001b[49m\u001b[43m \u001b[49m\u001b[43mcapacity_check\u001b[49m\u001b[43m)\u001b[49m\n\u001b[0;32m    437\u001b[0m     \u001b[38;5;28;01mif\u001b[39;00m \u001b[38;5;129;01mnot\u001b[39;00m units_row_added:\n\u001b[0;32m    438\u001b[0m         units_row \u001b[38;5;241m=\u001b[39m item\u001b[38;5;241m.\u001b[39msection\u001b[38;5;241m.\u001b[39m_get_units_row_flexure()  \u001b[38;5;66;03m# type: ignore\u001b[39;00m\n",
      "File \u001b[1;32m~\\Documents\\GitHub\\mento\\mento\\summary.py:474\u001b[0m, in \u001b[0;36mBeamSummary._process_beam_for_check\u001b[1;34m(self, node, check_type, capacity_check)\u001b[0m\n\u001b[0;32m    472\u001b[0m     results \u001b[38;5;241m=\u001b[39m node\u001b[38;5;241m.\u001b[39mcheck_shear()\u001b[38;5;241m.\u001b[39miloc[\u001b[38;5;241m1\u001b[39m:]\u001b[38;5;241m.\u001b[39mreset_index(drop\u001b[38;5;241m=\u001b[39m\u001b[38;5;28;01mTrue\u001b[39;00m)\n\u001b[0;32m    473\u001b[0m \u001b[38;5;28;01melif\u001b[39;00m check_type \u001b[38;5;241m==\u001b[39m \u001b[38;5;124m\"\u001b[39m\u001b[38;5;124mflexure\u001b[39m\u001b[38;5;124m\"\u001b[39m:\n\u001b[1;32m--> 474\u001b[0m     results \u001b[38;5;241m=\u001b[39m \u001b[43mnode\u001b[49m\u001b[38;5;241;43m.\u001b[39;49m\u001b[43mcheck_flexure\u001b[49m\u001b[43m(\u001b[49m\u001b[43m)\u001b[49m\u001b[38;5;241m.\u001b[39miloc[\u001b[38;5;241m1\u001b[39m:]\u001b[38;5;241m.\u001b[39mreset_index(drop\u001b[38;5;241m=\u001b[39m\u001b[38;5;28;01mTrue\u001b[39;00m)\n\u001b[0;32m    475\u001b[0m \u001b[38;5;28;01melse\u001b[39;00m:\n\u001b[0;32m    476\u001b[0m     \u001b[38;5;28;01mraise\u001b[39;00m \u001b[38;5;167;01mValueError\u001b[39;00m(\u001b[38;5;124m\"\u001b[39m\u001b[38;5;124mcheck_type must be either \u001b[39m\u001b[38;5;124m'\u001b[39m\u001b[38;5;124mshear\u001b[39m\u001b[38;5;124m'\u001b[39m\u001b[38;5;124m or \u001b[39m\u001b[38;5;124m'\u001b[39m\u001b[38;5;124mflexure\u001b[39m\u001b[38;5;124m'\u001b[39m\u001b[38;5;124m\"\u001b[39m)\n",
      "File \u001b[1;32m~\\Documents\\GitHub\\mento\\mento\\node.py:90\u001b[0m, in \u001b[0;36mNode.check_flexure\u001b[1;34m(self)\u001b[0m\n\u001b[0;32m     89\u001b[0m \u001b[38;5;28;01mdef\u001b[39;00m \u001b[38;5;21mcheck_flexure\u001b[39m(\u001b[38;5;28mself\u001b[39m) \u001b[38;5;241m-\u001b[39m\u001b[38;5;241m>\u001b[39m pd\u001b[38;5;241m.\u001b[39mDataFrame:\n\u001b[1;32m---> 90\u001b[0m     \u001b[38;5;28;01mreturn\u001b[39;00m \u001b[38;5;28;43mself\u001b[39;49m\u001b[38;5;241;43m.\u001b[39;49m\u001b[43msection\u001b[49m\u001b[38;5;241;43m.\u001b[39;49m\u001b[43mcheck_flexure\u001b[49m\u001b[43m(\u001b[49m\u001b[38;5;28;43mself\u001b[39;49m\u001b[38;5;241;43m.\u001b[39;49m\u001b[43mforces\u001b[49m\u001b[43m)\u001b[49m\n",
      "File \u001b[1;32m~\\Documents\\GitHub\\mento\\mento\\beam.py:551\u001b[0m, in \u001b[0;36mRectangularBeam.check_flexure\u001b[1;34m(self, forces)\u001b[0m\n\u001b[0;32m    547\u001b[0m     result \u001b[38;5;241m=\u001b[39m _check_flexure_ACI_318_19(\u001b[38;5;28mself\u001b[39m, force)\n\u001b[0;32m    548\u001b[0m \u001b[38;5;66;03m# elif self.concrete.design_code==\"EN 1992-2004\":\u001b[39;00m\n\u001b[0;32m    549\u001b[0m \u001b[38;5;66;03m#     result =  _check_shear_EN_1992_2004(self, force)\u001b[39;00m\n\u001b[0;32m    550\u001b[0m \u001b[38;5;28;01melse\u001b[39;00m:\n\u001b[1;32m--> 551\u001b[0m     \u001b[38;5;28;01mraise\u001b[39;00m \u001b[38;5;167;01mValueError\u001b[39;00m(\n\u001b[0;32m    552\u001b[0m         \u001b[38;5;124mf\u001b[39m\u001b[38;5;124m\"\u001b[39m\u001b[38;5;124mFlexure design method not implemented for concrete type: \u001b[39m\u001b[38;5;132;01m{\u001b[39;00m\u001b[38;5;28mtype\u001b[39m(\u001b[38;5;28mself\u001b[39m\u001b[38;5;241m.\u001b[39mconcrete)\u001b[38;5;241m.\u001b[39m\u001b[38;5;18m__name__\u001b[39m\u001b[38;5;132;01m}\u001b[39;00m\u001b[38;5;124m\"\u001b[39m\n\u001b[0;32m    553\u001b[0m     )  \u001b[38;5;66;03m# noqa: E501\u001b[39;00m\n\u001b[0;32m    554\u001b[0m \u001b[38;5;28mself\u001b[39m\u001b[38;5;241m.\u001b[39m_flexure_results_list\u001b[38;5;241m.\u001b[39mappend(result)\n\u001b[0;32m    556\u001b[0m \u001b[38;5;66;03m# Store detailed results for this force\u001b[39;00m\n",
      "\u001b[1;31mValueError\u001b[0m: Flexure design method not implemented for concrete type: Concrete_EN_1992_2004"
     ]
    }
   ],
   "source": [
    "beam_summary.flexure_results()\n",
    "# See the same results for capacity check, without DCR\n",
    "# beam_summary.flexure_results(capacity_check=True)"
   ]
  },
  {
   "cell_type": "markdown",
   "metadata": {},
   "source": [
    "**More detailed results**"
   ]
  },
  {
   "cell_type": "code",
   "execution_count": null,
   "metadata": {},
   "outputs": [],
   "source": [
    "# See more complete and specific detailed results for shear check for a specific beam index of the summary\n",
    "beam_summary.nodes[1].shear_results_detailed()"
   ]
  },
  {
   "cell_type": "code",
   "execution_count": null,
   "metadata": {},
   "outputs": [],
   "source": [
    "# See more complete and specific detailed results for shear check for a specific beam index of the summary\n",
    "beam_summary.nodes[2].flexure_results_detailed()"
   ]
  }
 ],
 "metadata": {
  "kernelspec": {
   "display_name": "mento-env",
   "language": "python",
   "name": "python3"
  },
  "language_info": {
   "codemirror_mode": {
    "name": "ipython",
    "version": 3
   },
   "file_extension": ".py",
   "mimetype": "text/x-python",
   "name": "python",
   "nbconvert_exporter": "python",
   "pygments_lexer": "ipython3",
   "version": "3.12.9"
  }
 },
 "nbformat": 4,
 "nbformat_minor": 2
}
