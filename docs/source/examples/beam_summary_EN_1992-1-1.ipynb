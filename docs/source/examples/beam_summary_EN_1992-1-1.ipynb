{
 "cells": [
  {
   "cell_type": "markdown",
   "metadata": {},
   "source": [
    "# Beam summary with EN 1992-1-1"
   ]
  },
  {
   "cell_type": "markdown",
   "metadata": {},
   "source": [
    "**Create input dataframe**"
   ]
  },
  {
   "cell_type": "markdown",
   "metadata": {},
   "source": [
    "This is an example creating the DataFrame directly in the cell but it's easier to load it from an Excel file, as is explained in the User Guide."
   ]
  },
  {
   "cell_type": "code",
   "execution_count": 2,
   "metadata": {},
   "outputs": [
    {
     "data": {
      "text/html": [
       "<div>\n",
       "<style scoped>\n",
       "    .dataframe tbody tr th:only-of-type {\n",
       "        vertical-align: middle;\n",
       "    }\n",
       "\n",
       "    .dataframe tbody tr th {\n",
       "        vertical-align: top;\n",
       "    }\n",
       "\n",
       "    .dataframe thead th {\n",
       "        text-align: right;\n",
       "    }\n",
       "</style>\n",
       "<table border=\"1\" class=\"dataframe\">\n",
       "  <thead>\n",
       "    <tr style=\"text-align: right;\">\n",
       "      <th></th>\n",
       "      <th>Label</th>\n",
       "      <th>b</th>\n",
       "      <th>h</th>\n",
       "      <th>Nx</th>\n",
       "      <th>Vz</th>\n",
       "      <th>My</th>\n",
       "      <th>ns</th>\n",
       "      <th>dbs</th>\n",
       "      <th>sl</th>\n",
       "      <th>n1</th>\n",
       "      <th>db1</th>\n",
       "      <th>n2</th>\n",
       "      <th>db2</th>\n",
       "      <th>n3</th>\n",
       "      <th>db3</th>\n",
       "      <th>n4</th>\n",
       "      <th>db4</th>\n",
       "    </tr>\n",
       "  </thead>\n",
       "  <tbody>\n",
       "    <tr>\n",
       "      <th>1</th>\n",
       "      <td>V101</td>\n",
       "      <td>20.00 cm</td>\n",
       "      <td>50.00 cm</td>\n",
       "      <td>0.00 kN</td>\n",
       "      <td>20.00 kN</td>\n",
       "      <td>0.00 kN·m</td>\n",
       "      <td>0</td>\n",
       "      <td>0.00 mm</td>\n",
       "      <td>0.00 cm</td>\n",
       "      <td>2</td>\n",
       "      <td>12.00 mm</td>\n",
       "      <td>1</td>\n",
       "      <td>10.00 mm</td>\n",
       "      <td>2</td>\n",
       "      <td>12.00 mm</td>\n",
       "      <td>0</td>\n",
       "      <td>0.00 mm</td>\n",
       "    </tr>\n",
       "    <tr>\n",
       "      <th>2</th>\n",
       "      <td>V102</td>\n",
       "      <td>20.00 cm</td>\n",
       "      <td>50.00 cm</td>\n",
       "      <td>0.00 kN</td>\n",
       "      <td>-50.00 kN</td>\n",
       "      <td>-35.00 kN·m</td>\n",
       "      <td>1</td>\n",
       "      <td>6.00 mm</td>\n",
       "      <td>20.00 cm</td>\n",
       "      <td>2</td>\n",
       "      <td>12.00 mm</td>\n",
       "      <td>1</td>\n",
       "      <td>16.00 mm</td>\n",
       "      <td>0</td>\n",
       "      <td>0.00 mm</td>\n",
       "      <td>0</td>\n",
       "      <td>0.00 mm</td>\n",
       "    </tr>\n",
       "    <tr>\n",
       "      <th>3</th>\n",
       "      <td>V103</td>\n",
       "      <td>20.00 cm</td>\n",
       "      <td>50.00 cm</td>\n",
       "      <td>0.00 kN</td>\n",
       "      <td>100.00 kN</td>\n",
       "      <td>40.00 kN·m</td>\n",
       "      <td>1</td>\n",
       "      <td>6.00 mm</td>\n",
       "      <td>20.00 cm</td>\n",
       "      <td>2</td>\n",
       "      <td>12.00 mm</td>\n",
       "      <td>1</td>\n",
       "      <td>10.00 mm</td>\n",
       "      <td>2</td>\n",
       "      <td>16.00 mm</td>\n",
       "      <td>0</td>\n",
       "      <td>0.00 mm</td>\n",
       "    </tr>\n",
       "    <tr>\n",
       "      <th>4</th>\n",
       "      <td>V104</td>\n",
       "      <td>20.00 cm</td>\n",
       "      <td>50.00 cm</td>\n",
       "      <td>0.00 kN</td>\n",
       "      <td>100.00 kN</td>\n",
       "      <td>45.00 kN·m</td>\n",
       "      <td>1</td>\n",
       "      <td>6.00 mm</td>\n",
       "      <td>20.00 cm</td>\n",
       "      <td>2</td>\n",
       "      <td>12.00 mm</td>\n",
       "      <td>0</td>\n",
       "      <td>0.00 mm</td>\n",
       "      <td>0</td>\n",
       "      <td>0.00 mm</td>\n",
       "      <td>0</td>\n",
       "      <td>0.00 mm</td>\n",
       "    </tr>\n",
       "  </tbody>\n",
       "</table>\n",
       "</div>"
      ],
      "text/plain": [
       "  Label         b         h       Nx         Vz           My  ns      dbs  \\\n",
       "1  V101  20.00 cm  50.00 cm  0.00 kN   20.00 kN    0.00 kN·m   0  0.00 mm   \n",
       "2  V102  20.00 cm  50.00 cm  0.00 kN  -50.00 kN  -35.00 kN·m   1  6.00 mm   \n",
       "3  V103  20.00 cm  50.00 cm  0.00 kN  100.00 kN   40.00 kN·m   1  6.00 mm   \n",
       "4  V104  20.00 cm  50.00 cm  0.00 kN  100.00 kN   45.00 kN·m   1  6.00 mm   \n",
       "\n",
       "         sl  n1       db1  n2       db2  n3       db3  n4      db4  \n",
       "1   0.00 cm   2  12.00 mm   1  10.00 mm   2  12.00 mm   0  0.00 mm  \n",
       "2  20.00 cm   2  12.00 mm   1  16.00 mm   0   0.00 mm   0  0.00 mm  \n",
       "3  20.00 cm   2  12.00 mm   1  10.00 mm   2  16.00 mm   0  0.00 mm  \n",
       "4  20.00 cm   2  12.00 mm   0   0.00 mm   0   0.00 mm   0  0.00 mm  "
      ]
     },
     "execution_count": 2,
     "metadata": {},
     "output_type": "execute_result"
    }
   ],
   "source": [
    "from mento import MPa\n",
    "from mento import BeamSummary, Concrete_EN_1992_2004, SteelBar\n",
    "import pandas as pd\n",
    "\n",
    "conc = Concrete_EN_1992_2004(name=\"H25\", f_ck=25*MPa)\n",
    "steel = SteelBar(name=\"ADN 500\", f_y=500*MPa)\n",
    "data = {'Label': ['', 'V101', 'V102', 'V103', 'V104'],\n",
    "        'b': ['cm', 20, 20, 20, 20],\n",
    "        'h': ['cm', 50, 50, 50, 50],\n",
    "        'Nx': ['kN', 0, 0, 0, 0],\n",
    "        'Vz': ['kN', 20, -50, 100, 100],\n",
    "        'My': ['kNm', 0, -35, 40, 45],\n",
    "        'ns': ['', 0, 1.0, 1.0, 1.0],\n",
    "        'dbs': ['mm', 0, 6, 6, 6],\n",
    "        'sl': ['cm', 0, 20, 20, 20],\n",
    "        'n1': ['', 2.0, 2, 2.0, 2.0],\n",
    "        'db1': ['mm', 12, 12, 12, 12],\n",
    "        'n2': ['', 1.0, 1, 1.0, 0.0],\n",
    "        'db2': ['mm', 10, 16, 10, 0],\n",
    "        'n3': ['', 2.0, 0.0, 2.0, 0.0],\n",
    "        'db3': ['mm', 12, 0, 16, 0],\n",
    "        'n4': ['', 0, 0.0, 0, 0.0],\n",
    "        'db4': ['mm', 0, 0, 0, 0]}\n",
    "input_df = pd.DataFrame(data)\n",
    "\n",
    "beam_summary = BeamSummary(concrete=conc, steel_bar=steel, beam_list=input_df)\n",
    "# Beam summary input data\n",
    "beam_summary.data"
   ]
  },
  {
   "cell_type": "markdown",
   "metadata": {},
   "source": [
    "**Check all beams for shear and flexure**"
   ]
  },
  {
   "cell_type": "code",
   "execution_count": 3,
   "metadata": {},
   "outputs": [
    {
     "ename": "ValueError",
     "evalue": "Summary method not implemented for concrete type: Concrete_EN_1992_2004",
     "output_type": "error",
     "traceback": [
      "\u001b[1;31m---------------------------------------------------------------------------\u001b[0m",
      "\u001b[1;31mValueError\u001b[0m                                Traceback (most recent call last)",
      "Cell \u001b[1;32mIn[3], line 1\u001b[0m\n\u001b[1;32m----> 1\u001b[0m \u001b[43mbeam_summary\u001b[49m\u001b[38;5;241;43m.\u001b[39;49m\u001b[43mcheck\u001b[49m\u001b[43m(\u001b[49m\u001b[43m)\u001b[49m\n",
      "File \u001b[1;32m~\\Documents\\GitHub\\mento\\mento\\summary.py:171\u001b[0m, in \u001b[0;36mBeamSummary.check\u001b[1;34m(self, capacity_check)\u001b[0m\n\u001b[0;32m    155\u001b[0m \u001b[38;5;250m\u001b[39m\u001b[38;5;124;03m\"\"\"\u001b[39;00m\n\u001b[0;32m    156\u001b[0m \u001b[38;5;124;03mPerform a check on all beams in the summary.\u001b[39;00m\n\u001b[0;32m    157\u001b[0m \n\u001b[1;32m   (...)\u001b[0m\n\u001b[0;32m    167\u001b[0m \u001b[38;5;124;03m    A DataFrame with the results of the check.\u001b[39;00m\n\u001b[0;32m    168\u001b[0m \u001b[38;5;124;03m\"\"\"\u001b[39;00m\n\u001b[0;32m    170\u001b[0m \u001b[38;5;28;01mif\u001b[39;00m \u001b[38;5;28misinstance\u001b[39m(\u001b[38;5;28mself\u001b[39m\u001b[38;5;241m.\u001b[39mconcrete, Concrete_EN_1992_2004):\n\u001b[1;32m--> 171\u001b[0m     \u001b[38;5;28;01mraise\u001b[39;00m \u001b[38;5;167;01mValueError\u001b[39;00m(\n\u001b[0;32m    172\u001b[0m         \u001b[38;5;124mf\u001b[39m\u001b[38;5;124m\"\u001b[39m\u001b[38;5;124mSummary method not implemented for concrete type: \u001b[39m\u001b[38;5;132;01m{\u001b[39;00m\u001b[38;5;28mtype\u001b[39m(\u001b[38;5;28mself\u001b[39m\u001b[38;5;241m.\u001b[39mconcrete)\u001b[38;5;241m.\u001b[39m\u001b[38;5;18m__name__\u001b[39m\u001b[38;5;132;01m}\u001b[39;00m\u001b[38;5;124m\"\u001b[39m\n\u001b[0;32m    173\u001b[0m     )  \u001b[38;5;66;03m# noqa: E501\u001b[39;00m\n\u001b[0;32m    175\u001b[0m results_list \u001b[38;5;241m=\u001b[39m []\n\u001b[0;32m    176\u001b[0m \u001b[38;5;28;01mfor\u001b[39;00m node \u001b[38;5;129;01min\u001b[39;00m \u001b[38;5;28mself\u001b[39m\u001b[38;5;241m.\u001b[39mnodes:\n",
      "\u001b[1;31mValueError\u001b[0m: Summary method not implemented for concrete type: Concrete_EN_1992_2004"
     ]
    }
   ],
   "source": [
    "beam_summary.check()"
   ]
  },
  {
   "cell_type": "markdown",
   "metadata": {},
   "source": [
    "**Calculate capacity for all beams for shear and flexure**"
   ]
  },
  {
   "cell_type": "code",
   "execution_count": null,
   "metadata": {},
   "outputs": [],
   "source": [
    "beam_summary.check(capacity_check=True)"
   ]
  },
  {
   "cell_type": "markdown",
   "metadata": {},
   "source": [
    "**Export results to excel**"
   ]
  },
  {
   "cell_type": "code",
   "execution_count": null,
   "metadata": {},
   "outputs": [],
   "source": [
    "beam_summary.check().to_excel('Beam summary results.xlsx', index=False)"
   ]
  },
  {
   "cell_type": "markdown",
   "metadata": {},
   "source": [
    "**See detailed results for shear check**"
   ]
  },
  {
   "cell_type": "code",
   "execution_count": null,
   "metadata": {},
   "outputs": [],
   "source": [
    "beam_summary.shear_results()\n",
    "# See the same results for capacity check, without DCR\n",
    "# beam_summary.shear_results(capacity_check=True)"
   ]
  },
  {
   "cell_type": "markdown",
   "metadata": {},
   "source": [
    "**See detailed results for flexure check**"
   ]
  },
  {
   "cell_type": "code",
   "execution_count": 4,
   "metadata": {},
   "outputs": [
    {
     "ename": "AttributeError",
     "evalue": "'BeamSummary' object has no attribute 'flexure_results'",
     "output_type": "error",
     "traceback": [
      "\u001b[1;31m---------------------------------------------------------------------------\u001b[0m",
      "\u001b[1;31mAttributeError\u001b[0m                            Traceback (most recent call last)",
      "Cell \u001b[1;32mIn[4], line 1\u001b[0m\n\u001b[1;32m----> 1\u001b[0m \u001b[43mbeam_summary\u001b[49m\u001b[38;5;241;43m.\u001b[39;49m\u001b[43mflexure_results\u001b[49m()\n",
      "\u001b[1;31mAttributeError\u001b[0m: 'BeamSummary' object has no attribute 'flexure_results'"
     ]
    }
   ],
   "source": [
    "beam_summary.flexure_results()\n",
    "# See the same results for capacity check, without DCR\n",
    "# beam_summary.flexure_results(capacity_check=True)"
   ]
  },
  {
   "cell_type": "markdown",
   "metadata": {},
   "source": [
    "**More detailed results**"
   ]
  },
  {
   "cell_type": "code",
   "execution_count": null,
   "metadata": {},
   "outputs": [],
   "source": [
    "# See more complete and specific detailed results for shear check for a specific beam index of the summary\n",
    "beam_summary.nodes[1].shear_results_detailed()"
   ]
  },
  {
   "cell_type": "code",
   "execution_count": null,
   "metadata": {},
   "outputs": [],
   "source": [
    "# See more complete and specific detailed results for shear check for a specific beam index of the summary\n",
    "beam_summary.nodes[2].flexure_results_detailed()"
   ]
  }
 ],
 "metadata": {
  "kernelspec": {
   "display_name": "rame-env",
   "language": "python",
   "name": "python3"
  },
  "language_info": {
   "codemirror_mode": {
    "name": "ipython",
    "version": 3
   },
   "file_extension": ".py",
   "mimetype": "text/x-python",
   "name": "python",
   "nbconvert_exporter": "python",
   "pygments_lexer": "ipython3",
   "version": "3.12.9"
  }
 },
 "nbformat": 4,
 "nbformat_minor": 2
}
