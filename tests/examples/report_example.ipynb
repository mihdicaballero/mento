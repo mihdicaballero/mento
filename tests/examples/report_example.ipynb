{
 "cells": [
  {
   "cell_type": "code",
   "execution_count": 3,
   "id": "03b0a911",
   "metadata": {},
   "outputs": [],
   "source": [
    "import sys\n",
    "import os\n",
    "# Add the project root to PYTHONPATH\n",
    "sys.path.append(os.path.abspath(r'C:\\Users\\mihdi\\Documents\\GitHub\\StructureLab'))\n",
    "from IPython.display import Markdown, display\n",
    "from structurelab.units import MPa, mm, kN, m, cm, kg, sec\n",
    "import handcalcs.render #NOQA"
   ]
  },
  {
   "cell_type": "markdown",
   "id": "36eda2c0",
   "metadata": {},
   "source": [
    "Calculations\n",
    "Let the force be represented as:\n",
    "$$F=ma$$\n",
    "Where:\n",
    "- $m$ is the mass in $\\text{kg}$\n",
    "- $a$ is the acceleration in $\\text{m/s}^2$"
   ]
  },
  {
   "cell_type": "code",
   "execution_count": 10,
   "id": "e9f0451e",
   "metadata": {},
   "outputs": [
    {
     "name": "stdout",
     "output_type": "stream",
     "text": [
      "9.810 m·s⁻²\n",
      "2.83\n"
     ]
    },
    {
     "data": {
      "text/markdown": [
       "The result is: $F$=5.0 kN"
      ],
      "text/plain": [
       "<IPython.core.display.Markdown object>"
      ]
     },
     "metadata": {},
     "output_type": "display_data"
    },
    {
     "data": {
      "text/markdown": [
       "The result is: $I_x$=16457503 mm⁴"
      ],
      "text/plain": [
       "<IPython.core.display.Markdown object>"
      ]
     },
     "metadata": {},
     "output_type": "display_data"
    },
    {
     "data": {
      "text/markdown": [
       "The result is: $I_y$=2986995 mm⁴"
      ],
      "text/plain": [
       "<IPython.core.display.Markdown object>"
      ]
     },
     "metadata": {},
     "output_type": "display_data"
    },
    {
     "data": {
      "text/html": [
       "1.124 kip"
      ],
      "text/latex": [
       "$1.124\\ \\mathrm{kip}$"
      ],
      "text/markdown": [
       "1.124 kip"
      ],
      "text/plain": [
       "1.124 kip"
      ]
     },
     "execution_count": 10,
     "metadata": {},
     "output_type": "execute_result"
    }
   ],
   "source": [
    "# Example calculation\n",
    "mass=100*kg\n",
    "a = 9.81*m/sec**2\n",
    "force = mass * a\n",
    "force=5*kN\n",
    "print(a)\n",
    "b=2.83*cm**2/m\n",
    "print(b.value*10000)\n",
    "display(Markdown(f\"The result is: $F$={round(force,1)}\"))\n",
    "t = 3.75*mm #Espesor\n",
    "H = 300*mm #Altura\n",
    "B = 100*mm #Ancho\n",
    "I_x = B*H**3/12 - (B - t)*(H - t)**3/12\n",
    "I_y = H*B**3/12 - (H - t)*(B - t)**3/12\n",
    "display(Markdown(f\"The result is: $I_x$={round(I_x,0)}\"))\n",
    "display(Markdown(f\"The result is: $I_y$={round(I_y,0)}\"))\n",
    "# Cambio de unidad\n",
    "force.to(unit_name=\"kip\")\n"
   ]
  },
  {
   "cell_type": "code",
   "execution_count": 3,
   "id": "77ed9e50",
   "metadata": {},
   "outputs": [],
   "source": [
    "%%capture\n",
    "!jupyter nbconvert --to markdown --no-input report_example.ipynb"
   ]
  },
  {
   "cell_type": "code",
   "execution_count": 4,
   "id": "a1eaf5ed",
   "metadata": {},
   "outputs": [
    {
     "name": "stderr",
     "output_type": "stream",
     "text": [
      "[NbConvertApp] Converting notebook report_example.ipynb to html\n",
      "[NbConvertApp] Writing 280683 bytes to report_example.html\n"
     ]
    }
   ],
   "source": [
    "%%capture\n",
    "!jupyter nbconvert --no-input report_example.ipynb --to html"
   ]
  },
  {
   "cell_type": "code",
   "execution_count": null,
   "id": "cae5197d",
   "metadata": {},
   "outputs": [],
   "source": [
    "%%capture\n",
    "!jupyter nbconvert --to pdf --no-input report_example.ipynb"
   ]
  },
  {
   "cell_type": "code",
   "execution_count": null,
   "id": "26e670d5",
   "metadata": {},
   "outputs": [],
   "source": [
    "%%capture\n",
    "!jupyter nbconvert --to pdf report_example.ipynb"
   ]
  },
  {
   "cell_type": "code",
   "execution_count": 5,
   "id": "6709a454",
   "metadata": {},
   "outputs": [
    {
     "data": {
      "text/latex": [
       "\\[\n",
       "\\begin{aligned}\n",
       "\\mathrm{mass} &= 100.00\\ \\mathrm{kg} \\; \n",
       "\\\\[10pt]\n",
       "a &= 9.81 \\cdot \\frac{ m }{ \\left( s \\right) ^{ 2 } }  = 9.81 \\cdot \\frac{ m }{ \\left( s \\right) ^{ 2 } } &= 9.81\\ \\mathrm{m} \\cdot \\mathrm{s}^{-2}  \n",
       "\\\\[10pt]\n",
       "\\mathrm{force} &= \\mathrm{mass} \\cdot a  = 100.00\\ \\mathrm{kg} \\cdot 9.81\\ \\mathrm{m} \\cdot \\mathrm{s}^{-2} &= 981.00\\ \\mathrm{N}  \n",
       "\\end{aligned}\n",
       "\\]"
      ],
      "text/plain": [
       "<IPython.core.display.Latex object>"
      ]
     },
     "metadata": {},
     "output_type": "display_data"
    }
   ],
   "source": [
    "%%render 2\n",
    "mass=100*kg\n",
    "a = 9.81*m/s**2\n",
    "force = mass * a"
   ]
  },
  {
   "cell_type": "code",
   "execution_count": null,
   "id": "47f66527",
   "metadata": {},
   "outputs": [
    {
     "data": {
      "text/latex": [
       "\\[\n",
       "\\begin{aligned}\n",
       "\\mathrm{mass} &= 100.00\\ \\mathrm{kg} \\; \n",
       "\\\\[10pt]\n",
       "a &= 9.81\\ \\mathrm{m} \\cdot \\mathrm{s}^{-2} \\; \n",
       "\\\\[10pt]\n",
       "\\mathrm{force} &= 981.00\\ \\mathrm{N} \\; \n",
       "\\end{aligned}\n",
       "\\]"
      ],
      "text/plain": [
       "<IPython.core.display.Latex object>"
      ]
     },
     "metadata": {},
     "output_type": "display_data"
    }
   ],
   "source": [
    "%%render 2\n",
    "mass=100*kg\n",
    "a = (9.81*m/s**2)\n",
    "force = (mass * a)"
   ]
  },
  {
   "cell_type": "code",
   "execution_count": null,
   "id": "a2fad79d",
   "metadata": {},
   "outputs": [
    {
     "data": {
      "text/latex": [
       "\\[\n",
       "\\begin{aligned}\n",
       "\\mathrm{mass} &= 100.00\\ \\mathrm{kg} \\; \n",
       " &a &= 9.81\\ \\mathrm{m} \\cdot \\mathrm{s}^{-2} \\; \n",
       " &\\mathrm{force} &= 981.00\\ \\mathrm{N} \\; \n",
       "\\\\[10pt]\n",
       "\\end{aligned}\n",
       "\\]"
      ],
      "text/plain": [
       "<IPython.core.display.Latex object>"
      ]
     },
     "metadata": {},
     "output_type": "display_data"
    }
   ],
   "source": [
    "%%render params 2 \n",
    "mass=100*kg\n",
    "a = 9.81*m/s**2\n",
    "force = mass * a"
   ]
  },
  {
   "cell_type": "code",
   "execution_count": null,
   "id": "012d1342",
   "metadata": {},
   "outputs": [
    {
     "data": {
      "text/latex": [
       "\\[\n",
       "\\begin{aligned}\n",
       "\\mathrm{mass} &= 100 \\cdot \\mathrm{kg} \\; \\;\\textrm{(Comment in line)}\n",
       "\\\\[10pt]\n",
       "a &= 9.81 \\cdot \\frac{ m }{ \\left( s \\right) ^{ 2 } } \\; \n",
       "\\\\[10pt]\n",
       "\\mathrm{force} &= \\mathrm{mass} \\cdot a \\; \n",
       "\\end{aligned}\n",
       "\\]"
      ],
      "text/plain": [
       "<IPython.core.display.Latex object>"
      ]
     },
     "metadata": {},
     "output_type": "display_data"
    }
   ],
   "source": [
    "%%render symbolic\n",
    "mass=100*kg #Comment in line\n",
    "a = 9.81*m/s**2\n",
    "force = mass * a\n"
   ]
  },
  {
   "cell_type": "code",
   "execution_count": null,
   "id": "c0720981",
   "metadata": {},
   "outputs": [
    {
     "data": {
      "text/latex": [
       "\\[\n",
       "\\begin{aligned}\n",
       "\\mathrm{force} &= 981.00\\ \\mathrm{N} \\;\n",
       "\\end{aligned}\n",
       "\\]"
      ],
      "text/plain": [
       "<IPython.core.display.Latex object>"
      ]
     },
     "metadata": {},
     "output_type": "display_data"
    }
   ],
   "source": [
    "%%render params 2\n",
    "force = mass * a"
   ]
  },
  {
   "cell_type": "code",
   "execution_count": null,
   "id": "425a6389",
   "metadata": {},
   "outputs": [
    {
     "data": {
      "text/latex": [
       "\\[\n",
       "\\begin{aligned}\n",
       "t &= 3.75\\ \\mathrm{mm} \\; \\;\\textrm{(Espesor)}\n",
       " &H &= 200.00\\ \\mathrm{mm} \\; \\;\\textrm{(Altura)}\n",
       " &B &= 100.00\\ \\mathrm{mm} \\; \\;\\textrm{(Ancho)}\n",
       "\\\\[10pt]\n",
       "\\end{aligned}\n",
       "\\]"
      ],
      "text/plain": [
       "<IPython.core.display.Latex object>"
      ]
     },
     "metadata": {},
     "output_type": "display_data"
    }
   ],
   "source": [
    "%%render params 2\n",
    "#Tubo 200x100x3.75mm\n",
    "t = 3.75*mm #Espesor\n",
    "H = 200*mm #Altura\n",
    "B = 100*mm #Ancho"
   ]
  },
  {
   "cell_type": "code",
   "execution_count": null,
   "id": "329554da",
   "metadata": {},
   "outputs": [
    {
     "data": {
      "text/latex": [
       "\\[\n",
       "\\begin{aligned}\n",
       "I_{x} &= B \\cdot \\frac{ \\left( H \\right) ^{ 3 } }{ 12 } - \\left( B - t \\right) \\cdot \\frac{ \\left( H - t \\right) ^{ 3 } }{ 12 } \\\\&= 100.000\\ \\mathrm{mm} \\cdot \\frac{ \\left( 200.000\\ \\mathrm{mm} \\right) ^{ 3 } }{ 12 } - \\left( 100.000\\ \\mathrm{mm} - 3.750\\ \\mathrm{mm} \\right) \\cdot \\frac{ \\left( 200.000\\ \\mathrm{mm} - 3.750\\ \\mathrm{mm} \\right) ^{ 3 } }{ 12 } \\\\&= 6042122.192\\ \\mathrm{mm}^{4}  \\\\[10pt]\n",
       "\\\\[10pt]\n",
       "I_{y} &= H \\cdot \\frac{ \\left( B \\right) ^{ 3 } }{ 12 } - \\left( H - t \\right) \\cdot \\frac{ \\left( B - t \\right) ^{ 3 } }{ 12 } \\\\&= 200.000\\ \\mathrm{mm} \\cdot \\frac{ \\left( 100.000\\ \\mathrm{mm} \\right) ^{ 3 } }{ 12 } - \\left( 200.000\\ \\mathrm{mm} - 3.750\\ \\mathrm{mm} \\right) \\cdot \\frac{ \\left( 100.000\\ \\mathrm{mm} - 3.750\\ \\mathrm{mm} \\right) ^{ 3 } }{ 12 } \\\\&= 2084212.036\\ \\mathrm{mm}^{4}  \\\\[10pt]\n",
       "\\end{aligned}\n",
       "\\]"
      ],
      "text/plain": [
       "<IPython.core.display.Latex object>"
      ]
     },
     "metadata": {},
     "output_type": "display_data"
    }
   ],
   "source": [
    "%%render\n",
    "I_x = B*H**3/12 - (B - t)*(H - t)**3/12\n",
    "I_y = H*B**3/12 - (H - t)*(B - t)**3/12"
   ]
  },
  {
   "cell_type": "code",
   "execution_count": 15,
   "id": "e6209c76",
   "metadata": {},
   "outputs": [
    {
     "name": "stdout",
     "output_type": "stream",
     "text": [
      "Nombre de la sección: V-40x50\n"
     ]
    }
   ],
   "source": [
    "import sys\n",
    "import os\n",
    "# Añadir el directorio raíz al PYTHONPATH\n",
    "sys.path.append(os.path.abspath(os.path.join(os.getcwd(), '../../')))\n",
    "\n",
    "from structurelab.material import create_concrete, SteelBar\n",
    "from structurelab.section import Beam\n",
    "\n",
    "from pylatex import Command, Document,  NoEscape\n",
    "from pylatex.utils import NoEscape  # noqa: F811\n",
    "import matplotlib\n",
    "matplotlib.use(\"Agg\")  # Not to use X server. For TravisCI.\n",
    "\n",
    "class MyDocument(Document):\n",
    "    def __init__(self, documentclass='article', document_options=['a4paper','spanish','10pt'], geometry_options={\"left\": \"20mm\",\"right\": \"20mm\"}):\n",
    "        # Pasar las opciones al constructor de la clase base Document\n",
    "        super().__init__(documentclass=documentclass, document_options=document_options, geometry_options=geometry_options)\n",
    "        self.preamble.append(Command(\"usepackage\",\"mathtools\"))\n",
    "        self.preamble.append(Command(\"title\", \"Viga rectangular a flexión - ACI 318-19\"))\n",
    "        self.preamble.append(Command(\"author\", \"StructureLab\"))\n",
    "        self.preamble.append(Command(\"date\", NoEscape(r\"\\today\")))\n",
    "        self.append(NoEscape(r\"\\maketitle\"))\n",
    "\n",
    "\n",
    "def main():\n",
    "    # Ejemplo de uso\n",
    "    concrete=create_concrete(name=\"H30\",f_c=30*MPa, design_code=\"ACI 318-19\") # type: ignore\n",
    "    steelBar=SteelBar(name=\"ADN 420\", f_y=420*MPa) # type: ignore\n",
    "    section = Beam(\n",
    "        name=\"V-40x50\",\n",
    "        concrete=concrete,\n",
    "        steelBar=steelBar,\n",
    "        width=400 * mm,  # type: ignore\n",
    "        depth=500 * mm,  # type: ignore\n",
    "    )\n",
    "    print(f\"Nombre de la sección: {section.get_name()}\")\n",
    "\n",
    "    doc = MyDocument()\n",
    "    doc.append(NoEscape(\n",
    "        r\"\"\"\n",
    "        La resistencia nominal a flexión, $M_n$, de una viga de hormigón armado se calcula mediante la siguiente expresión:\n",
    "\n",
    "        \\begin{equation}\n",
    "        M_n = A_s \\cdot f_y \\cdot \\left( d - \\frac{a}{2} \\right)\n",
    "        \\end{equation}\n",
    "\n",
    "        Donde:\n",
    "\n",
    "        \\begin{itemize}\n",
    "            \\item $A_s$ es el área de la armadura de refuerzo (en $\\text{mm}^2$).\n",
    "            \\item $f_y$ es el esfuerzo de fluencia del acero de refuerzo (en MPa).\n",
    "            \\item $d$ es la distancia desde la fibra extrema en compresión hasta el centroide del acero de refuerzo (en mm).\n",
    "            \\item $a$ es la profundidad del bloque de compresión equivalente (en mm), que se determina como:\n",
    "            \\begin{equation}\n",
    "            a = \\frac{\\beta_1 \\cdot c}{2}\n",
    "            \\end{equation}\n",
    "        \\end{itemize}\n",
    "\n",
    "        La profundidad $c$ se relaciona con la deformación en el acero de refuerzo, y $\\beta_1$ es un factor que depende de la resistencia especificada del concreto, $f'_c$, según las disposiciones del ACI 318-19.\n",
    "\n",
    "        \\section{Factor de Resistencia}\n",
    "\n",
    "        Para asegurar un diseño seguro, se introduce un factor de resistencia, $\\phi$, que se aplica a la resistencia nominal:\n",
    "\n",
    "        \\begin{equation}\n",
    "        M_u \\leq \\phi \\cdot M_n\n",
    "        \\end{equation}\n",
    "\n",
    "        Donde $M_u$ es el momento flector último requerido debido a las cargas aplicadas, y $\\phi$ es el factor de reducción de resistencia, cuyo valor depende del tipo de fallo esperado y puede variar entre 0.65 y 0.90.\n",
    "\n",
    "        \"\"\"))\n",
    "    doc.generate_pdf(\"Pylatex_test\",clean_tex=False)\n",
    "\n",
    "if __name__ == \"__main__\":\n",
    "    main()"
   ]
  }
 ],
 "metadata": {
  "kernelspec": {
   "display_name": "Python 3 (ipykernel)",
   "language": "python",
   "name": "python3"
  },
  "language_info": {
   "codemirror_mode": {
    "name": "ipython",
    "version": 3
   },
   "file_extension": ".py",
   "mimetype": "text/x-python",
   "name": "python",
   "nbconvert_exporter": "python",
   "pygments_lexer": "ipython3",
   "version": "3.11.5"
  }
 },
 "nbformat": 4,
 "nbformat_minor": 5
}
