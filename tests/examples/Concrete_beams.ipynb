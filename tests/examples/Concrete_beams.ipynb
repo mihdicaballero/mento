{
 "cells": [
  {
   "cell_type": "markdown",
   "id": "c80f1fe4",
   "metadata": {},
   "source": [
    "## Ejemplo análisis de una sección"
   ]
  },
  {
   "cell_type": "code",
   "execution_count": null,
   "id": "2bdde0d7",
   "metadata": {},
   "outputs": [],
   "source": [
    "from mento import Concrete_ACI_318_19, SteelBar, RectangularBeam\n",
    "from mento import cm, MPa\n",
    "\n",
    "conc= Concrete_ACI_318_19(name=\"C25\",f_c=25*MPa) \n",
    "steel= SteelBar(name=\"ADN 420\", f_y=420*MPa) \n",
    "beam = RectangularBeam(label=\"101\",concrete=conc,steel_bar=steel,width=20*cm, height=40*cm)\n",
    "beam.data"
   ]
  },
  {
   "cell_type": "code",
   "execution_count": null,
   "id": "3a716e57",
   "metadata": {},
   "outputs": [
    {
     "data": {
      "text/markdown": [
       "Beam 101, $b$=20.00 cm, $h$=40.00 cm, $c_{c}$=2.50 cm,                             Concrete C25, Rebar ADN 420.\n",
       "\n",
       "Shear reinforcing 1eØ8/25 cm, $A_v$=4.02 cm²/m, $V_u$=220 kN, $\\phi V_n$=89.08 kN → $\\color{#d43e36}{\\text{DCR}=2.47}$"
      ],
      "text/plain": [
       "<IPython.core.display.Markdown object>"
      ]
     },
     "metadata": {},
     "output_type": "display_data"
    }
   ],
   "source": [
    "from mento import Concrete_ACI_318_19, SteelBar, Forces, RectangularBeam, Node\n",
    "from mento import mm, cm, kN, MPa\n",
    "# Defines materiales and beam section\n",
    "conc= Concrete_ACI_318_19(name=\"C25\",f_c=25*MPa) \n",
    "steel= SteelBar(name=\"ADN 420\", f_y=420*MPa) \n",
    "beam = RectangularBeam(label=\"101\",concrete=conc,steel_bar=steel,width=20*cm, height=40*cm)\n",
    "# Define forces\n",
    "f1 = Forces(label='1.4D', V_z=50*kN)\n",
    "f2 = Forces(label='1.2D+1.6L', V_z=155*kN)\n",
    "f3 = Forces(label='W', V_z=220*kN)\n",
    "f4 = Forces(label='S', V_z=80*kN)\n",
    "f5 = Forces(label='E', V_z=10*kN)\n",
    "# Create node and assign beam section and list of forces\n",
    "Node(section=beam, forces_list=[f1, f2, f3, f4, f5])\n",
    "# Assign transverse reiforcement\n",
    "beam.set_transverse_rebar(n_stirrups=1, d_b=8*mm, s_l=25*cm)\n",
    "# Check shear for all forces\n",
    "beam.check_shear()\n",
    "# print(beam.check_shear())\n",
    "beam.results\n",
    "# beam.design_shear()\n",
    "# beam.results\n",
    "# beam.shear_results_detailed()"
   ]
  },
  {
   "cell_type": "code",
   "execution_count": 3,
   "id": "2f162af3",
   "metadata": {},
   "outputs": [
    {
     "ename": "ValueError",
     "evalue": "No Node or forces list associated with this beam.",
     "output_type": "error",
     "traceback": [
      "\u001b[1;31m---------------------------------------------------------------------------\u001b[0m",
      "\u001b[1;31mValueError\u001b[0m                                Traceback (most recent call last)",
      "Cell \u001b[1;32mIn[3], line 32\u001b[0m\n\u001b[0;32m     26\u001b[0m beam_summary \u001b[38;5;241m=\u001b[39m BeamSummary(concrete\u001b[38;5;241m=\u001b[39mconc, steel_bar\u001b[38;5;241m=\u001b[39msteel, beam_list\u001b[38;5;241m=\u001b[39minput_df)\n\u001b[0;32m     27\u001b[0m \u001b[38;5;66;03m# beam_summary.data\u001b[39;00m\n\u001b[0;32m     28\u001b[0m \u001b[38;5;66;03m# print(beam_summary.data)\u001b[39;00m\n\u001b[0;32m     29\u001b[0m \u001b[38;5;66;03m# beam_summary.capacity()\u001b[39;00m\n\u001b[0;32m     30\u001b[0m \u001b[38;5;66;03m# beam_summary.check()\u001b[39;00m\n\u001b[0;32m     31\u001b[0m \u001b[38;5;66;03m# beam_summary.check().to_excel('hola.xlsx', index=False)\u001b[39;00m\n\u001b[1;32m---> 32\u001b[0m \u001b[43mbeam_summary\u001b[49m\u001b[38;5;241;43m.\u001b[39;49m\u001b[43mshear_results\u001b[49m\u001b[43m(\u001b[49m\u001b[43mcapacity\u001b[49m\u001b[38;5;241;43m=\u001b[39;49m\u001b[38;5;28;43;01mFalse\u001b[39;49;00m\u001b[43m)\u001b[49m\n\u001b[0;32m     33\u001b[0m \u001b[38;5;66;03m# beam_summary.shear_results(capacity=True)\u001b[39;00m\n\u001b[0;32m     34\u001b[0m \u001b[38;5;66;03m# print(results)\u001b[39;00m\n\u001b[0;32m     35\u001b[0m \u001b[38;5;66;03m# print(beam_summary.beams[3]['section'].shear_results_detailed)\u001b[39;00m\n",
      "File \u001b[1;32m~\\Documents\\GitHub\\mento\\mento\\summary.py:221\u001b[0m, in \u001b[0;36mBeamSummary.shear_results\u001b[1;34m(self, index, capacity)\u001b[0m\n\u001b[0;32m    219\u001b[0m     beam \u001b[38;5;241m=\u001b[39m item[\u001b[38;5;124m'\u001b[39m\u001b[38;5;124msection\u001b[39m\u001b[38;5;124m'\u001b[39m]\n\u001b[0;32m    220\u001b[0m     forces \u001b[38;5;241m=\u001b[39m item[\u001b[38;5;124m'\u001b[39m\u001b[38;5;124mforces\u001b[39m\u001b[38;5;124m'\u001b[39m] \u001b[38;5;129;01mor\u001b[39;00m Forces()  \u001b[38;5;66;03m# Defaults to zero forces if None\u001b[39;00m\n\u001b[1;32m--> 221\u001b[0m     shear_results \u001b[38;5;241m=\u001b[39m \u001b[43mbeam\u001b[49m\u001b[38;5;241;43m.\u001b[39;49m\u001b[43mcheck_shear\u001b[49m\u001b[43m(\u001b[49m\u001b[43mforces\u001b[49m\u001b[43m)\u001b[49m \u001b[38;5;28;01mif\u001b[39;00m capacity \u001b[38;5;129;01mis\u001b[39;00m \u001b[38;5;28;01mFalse\u001b[39;00m \u001b[38;5;28;01melse\u001b[39;00m beam\u001b[38;5;241m.\u001b[39mcheck_shear()\n\u001b[0;32m    223\u001b[0m     all_shear_results\u001b[38;5;241m.\u001b[39mappend(shear_results)\n\u001b[0;32m    225\u001b[0m \u001b[38;5;66;03m# Combine all shear results into a single DataFrame\u001b[39;00m\n",
      "File \u001b[1;32m~\\Documents\\GitHub\\mento\\mento\\beam.py:709\u001b[0m, in \u001b[0;36mRectangularBeam.check_shear\u001b[1;34m(self, A_s)\u001b[0m\n\u001b[0;32m    707\u001b[0m \u001b[38;5;28;01mdef\u001b[39;00m \u001b[38;5;21mcheck_shear\u001b[39m(\u001b[38;5;28mself\u001b[39m, A_s: PlainQuantity \u001b[38;5;241m=\u001b[39m \u001b[38;5;241m0\u001b[39m\u001b[38;5;241m*\u001b[39mcm\u001b[38;5;241m*\u001b[39m\u001b[38;5;241m*\u001b[39m\u001b[38;5;241m2\u001b[39m) \u001b[38;5;241m-\u001b[39m\u001b[38;5;241m>\u001b[39m DataFrame:\n\u001b[0;32m    708\u001b[0m     \u001b[38;5;28;01mif\u001b[39;00m \u001b[38;5;129;01mnot\u001b[39;00m \u001b[38;5;28mself\u001b[39m\u001b[38;5;241m.\u001b[39mnode \u001b[38;5;129;01mor\u001b[39;00m \u001b[38;5;129;01mnot\u001b[39;00m \u001b[38;5;28mself\u001b[39m\u001b[38;5;241m.\u001b[39mnode\u001b[38;5;241m.\u001b[39mforces_list:\n\u001b[1;32m--> 709\u001b[0m         \u001b[38;5;28;01mraise\u001b[39;00m \u001b[38;5;167;01mValueError\u001b[39;00m(\u001b[38;5;124m\"\u001b[39m\u001b[38;5;124mNo Node or forces list associated with this beam.\u001b[39m\u001b[38;5;124m\"\u001b[39m)\n\u001b[0;32m    711\u001b[0m     \u001b[38;5;28mself\u001b[39m\u001b[38;5;241m.\u001b[39m_shear_results_list \u001b[38;5;241m=\u001b[39m []  \u001b[38;5;66;03m# Store individual results for each force\u001b[39;00m\n\u001b[0;32m    712\u001b[0m     \u001b[38;5;28mself\u001b[39m\u001b[38;5;241m.\u001b[39m_shear_results_detailed_list \u001b[38;5;241m=\u001b[39m {}  \u001b[38;5;66;03m# Store detailed results by force ID\u001b[39;00m\n",
      "\u001b[1;31mValueError\u001b[0m: No Node or forces list associated with this beam."
     ]
    }
   ],
   "source": [
    "from mento.summary import BeamSummary\n",
    "import pandas as pd\n",
    "\n",
    "conc = Concrete_ACI_318_19(name=\"C25\", f_c=25*MPa)\n",
    "steel = SteelBar(name=\"ADN 420\", f_y=420*MPa)\n",
    "input_df = pd.read_excel('Mento-Input.xlsx', sheet_name='Beams', usecols='B:R', skiprows=4)\n",
    "# data = {'Label': ['', 'V101', 'V102', 'V103', 'V104'],\n",
    "#         'b': ['cm', 20, 20, 20, 20],\n",
    "#         'h': ['cm', 50, 50, 50, 50],\n",
    "#         'Nx': ['kN', 0, 0, 0, 50],\n",
    "#         'Vz': ['kN', 20, 50, 100, 100],\n",
    "#         'My': ['kNm', 0, 35, 40, 45],\n",
    "#         'ns': ['', 0, 1.0, 1.0, 1.0],\n",
    "#         'dbs': ['mm', 0, 6, 6, 6],\n",
    "#         'sl': ['cm', 0, 20, 20, 20],\n",
    "#         'n1': ['', 2.0, 2.0, 2.0, 2.0],\n",
    "#         'db1': ['mm', 12, 12, 12, 12],\n",
    "#         'n2': ['', 1.0, 0.0, 1.0, 0.0],\n",
    "#         'db2': ['mm', 10, 0, 10, 0],\n",
    "#         'n3': ['', 2.0, 0.0, 2.0, 0.0],\n",
    "#         'db3': ['mm', 12, 0, 0, 0],\n",
    "#         'n4': ['', 1.0, 0.0, 1.0, 0.0],\n",
    "#         'db4': ['mm', 10, 0, 0, 0]}\n",
    "# input_df = pd.DataFrame(data)\n",
    "# print(input_df)\n",
    "beam_summary = BeamSummary(concrete=conc, steel_bar=steel, beam_list=input_df)\n",
    "# beam_summary.data\n",
    "# print(beam_summary.data)\n",
    "# beam_summary.capacity()\n",
    "# beam_summary.check()\n",
    "# beam_summary.check().to_excel('hola.xlsx', index=False)\n",
    "beam_summary.shear_results(capacity=False)\n",
    "# beam_summary.shear_results(capacity=True)\n",
    "# print(results)\n",
    "# print(beam_summary.beams[3]['section'].shear_results_detailed)"
   ]
  }
 ],
 "metadata": {
  "kernelspec": {
   "display_name": "Python 3",
   "language": "python",
   "name": "python3"
  },
  "language_info": {
   "codemirror_mode": {
    "name": "ipython",
    "version": 3
   },
   "file_extension": ".py",
   "mimetype": "text/x-python",
   "name": "python",
   "nbconvert_exporter": "python",
   "pygments_lexer": "ipython3",
   "version": "3.11.9"
  }
 },
 "nbformat": 4,
 "nbformat_minor": 5
}
