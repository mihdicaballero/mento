{
 "cells": [
  {
   "cell_type": "markdown",
   "id": "c80f1fe4",
   "metadata": {},
   "source": [
    "## Ejemplo análisis de una sección"
   ]
  },
  {
   "cell_type": "code",
   "execution_count": 1,
   "id": "2bdde0d7",
   "metadata": {},
   "outputs": [
    {
     "data": {
      "text/markdown": [
       "Beam 101, $b$=20.00 cm, $h$=40.00 cm, $c_{c}$=2.50 cm,                             Concrete C25, Rebar ADN 420."
      ],
      "text/plain": [
       "<IPython.core.display.Markdown object>"
      ]
     },
     "metadata": {},
     "output_type": "display_data"
    }
   ],
   "source": [
    "from mento import Concrete_ACI_318_19, SteelBar, RectangularBeam\n",
    "from mento import cm, MPa\n",
    "\n",
    "conc= Concrete_ACI_318_19(name=\"C25\",f_c=25*MPa) \n",
    "steel= SteelBar(name=\"ADN 420\", f_y=420*MPa) \n",
    "beam = RectangularBeam(label=\"101\",concrete=conc,steel_bar=steel,width=20*cm, height=40*cm)\n",
    "beam.data"
   ]
  },
  {
   "cell_type": "code",
   "execution_count": 2,
   "id": "3a716e57",
   "metadata": {},
   "outputs": [
    {
     "data": {
      "text/markdown": [
       "Beam 101, $b$=20.00 cm, $h$=40.00 cm, $c_{c}$=2.50 cm,                             Concrete C25, Rebar ADN 420."
      ],
      "text/plain": [
       "<IPython.core.display.Markdown object>"
      ]
     },
     "metadata": {},
     "output_type": "display_data"
    },
    {
     "data": {
      "text/markdown": [
       "Top longitudinal rebar: 2Ø16, $A_{s,top}$ = 4.02 cm², $M_u$ = -80 kNm, $\\phi M_n$ = 51.55 kNm, $\\color{#d43e36}{\\text{DCR}=1.55}$\n",
       "\n",
       "Bottom longitudinal rebar: 2Ø16+1Ø12 ++ 2Ø12+1Ø10, $A_{s,bot}$ = 8.2 cm², $M_u$ = 90 kNm, $\\phi M_n$ = 93.58 kNm, $\\color{#efc200}{\\text{DCR}=0.96}$"
      ],
      "text/plain": [
       "<IPython.core.display.Markdown object>"
      ]
     },
     "metadata": {},
     "output_type": "display_data"
    },
    {
     "ename": "AttributeError",
     "evalue": "'RectangularBeam' object has no attribute '_all_shear_checks_passed'",
     "output_type": "error",
     "traceback": [
      "\u001b[1;31m---------------------------------------------------------------------------\u001b[0m",
      "\u001b[1;31mAttributeError\u001b[0m                            Traceback (most recent call last)",
      "Cell \u001b[1;32mIn[2], line 23\u001b[0m\n\u001b[0;32m     21\u001b[0m beam\u001b[38;5;241m.\u001b[39mcheck_flexure()\n\u001b[0;32m     22\u001b[0m \u001b[38;5;66;03m# print(beam.check_shear())\u001b[39;00m\n\u001b[1;32m---> 23\u001b[0m \u001b[43mbeam\u001b[49m\u001b[38;5;241;43m.\u001b[39;49m\u001b[43mresults\u001b[49m\n\u001b[0;32m     24\u001b[0m \u001b[38;5;66;03m# beam.design_shear()\u001b[39;00m\n\u001b[0;32m     25\u001b[0m \u001b[38;5;66;03m# beam.results\u001b[39;00m\n\u001b[0;32m     26\u001b[0m \u001b[38;5;66;03m# beam.shear_results_detailed()\u001b[39;00m\n",
      "File \u001b[1;32m~\\Documents\\GitHub\\mento\\mento\\beam.py:1865\u001b[0m, in \u001b[0;36mRectangularBeam.results\u001b[1;34m(self)\u001b[0m\n\u001b[0;32m   1863\u001b[0m     \u001b[38;5;28mself\u001b[39m\u001b[38;5;241m.\u001b[39mflexure_results  \u001b[38;5;66;03m# This will generate _md_flexure_results\u001b[39;00m\n\u001b[0;32m   1864\u001b[0m \u001b[38;5;28;01mif\u001b[39;00m \u001b[38;5;129;01mnot\u001b[39;00m \u001b[38;5;28mhasattr\u001b[39m(\u001b[38;5;28mself\u001b[39m, \u001b[38;5;124m'\u001b[39m\u001b[38;5;124m_md_shear_results\u001b[39m\u001b[38;5;124m'\u001b[39m):\n\u001b[1;32m-> 1865\u001b[0m     \u001b[38;5;28;43mself\u001b[39;49m\u001b[38;5;241;43m.\u001b[39;49m\u001b[43mshear_results\u001b[49m  \u001b[38;5;66;03m# This will generate _md_shear_results\u001b[39;00m\n\u001b[0;32m   1866\u001b[0m \u001b[38;5;66;03m# Combine the markdown content for properties and shear results\u001b[39;00m\n\u001b[0;32m   1867\u001b[0m markdown_content \u001b[38;5;241m=\u001b[39m \u001b[38;5;124mf\u001b[39m\u001b[38;5;124m\"\u001b[39m\u001b[38;5;132;01m{\u001b[39;00m\u001b[38;5;28mself\u001b[39m\u001b[38;5;241m.\u001b[39m_md_data\u001b[38;5;132;01m}\u001b[39;00m\u001b[38;5;130;01m\\n\u001b[39;00m\u001b[38;5;132;01m{\u001b[39;00m\u001b[38;5;28mself\u001b[39m\u001b[38;5;241m.\u001b[39m_md_flexure_results\u001b[38;5;132;01m}\u001b[39;00m\u001b[38;5;130;01m\\n\u001b[39;00m\u001b[38;5;132;01m{\u001b[39;00m\u001b[38;5;28mself\u001b[39m\u001b[38;5;241m.\u001b[39m_md_shear_results\u001b[38;5;132;01m}\u001b[39;00m\u001b[38;5;124m\"\u001b[39m\n",
      "File \u001b[1;32m~\\Documents\\GitHub\\mento\\mento\\beam.py:1847\u001b[0m, in \u001b[0;36mRectangularBeam.shear_results\u001b[1;34m(self)\u001b[0m\n\u001b[0;32m   1844\u001b[0m     rebar_v \u001b[38;5;241m=\u001b[39m \u001b[38;5;124mf\u001b[39m\u001b[38;5;124m\"\u001b[39m\u001b[38;5;132;01m{\u001b[39;00m\u001b[38;5;28mint\u001b[39m(limiting_reinforcement[\u001b[38;5;124m'\u001b[39m\u001b[38;5;124mValue\u001b[39m\u001b[38;5;124m'\u001b[39m][\u001b[38;5;241m0\u001b[39m])\u001b[38;5;132;01m}\u001b[39;00m\u001b[38;5;124meØ\u001b[39m\u001b[38;5;132;01m{\u001b[39;00mlimiting_reinforcement[\u001b[38;5;124m'\u001b[39m\u001b[38;5;124mValue\u001b[39m\u001b[38;5;124m'\u001b[39m][\u001b[38;5;241m1\u001b[39m]\u001b[38;5;132;01m}\u001b[39;00m\u001b[38;5;124m/\u001b[39m\u001b[38;5;124m\"\u001b[39m\\\n\u001b[0;32m   1845\u001b[0m             \u001b[38;5;124mf\u001b[39m\u001b[38;5;124m\"\u001b[39m\u001b[38;5;132;01m{\u001b[39;00mlimiting_reinforcement[\u001b[38;5;124m'\u001b[39m\u001b[38;5;124mValue\u001b[39m\u001b[38;5;124m'\u001b[39m][\u001b[38;5;241m2\u001b[39m]\u001b[38;5;132;01m}\u001b[39;00m\u001b[38;5;124m cm\u001b[39m\u001b[38;5;124m\"\u001b[39m\n\u001b[0;32m   1846\u001b[0m \u001b[38;5;66;03m# Limitng cases checks \u001b[39;00m\n\u001b[1;32m-> 1847\u001b[0m warning \u001b[38;5;241m=\u001b[39m \u001b[38;5;124m\"\u001b[39m\u001b[38;5;124m⚠️ Some checks failed, see detailed results.\u001b[39m\u001b[38;5;124m\"\u001b[39m \u001b[38;5;28;01mif\u001b[39;00m \u001b[38;5;129;01mnot\u001b[39;00m \u001b[38;5;28;43mself\u001b[39;49m\u001b[38;5;241;43m.\u001b[39;49m\u001b[43m_all_shear_checks_passed\u001b[49m \u001b[38;5;28;01melse\u001b[39;00m \u001b[38;5;124m\"\u001b[39m\u001b[38;5;124m\"\u001b[39m \n\u001b[0;32m   1848\u001b[0m markdown_content \u001b[38;5;241m=\u001b[39m \u001b[38;5;124mf\u001b[39m\u001b[38;5;124m\"\u001b[39m\u001b[38;5;124mShear reinforcing \u001b[39m\u001b[38;5;132;01m{\u001b[39;00mrebar_v\u001b[38;5;132;01m}\u001b[39;00m\u001b[38;5;124m, $A_v$=\u001b[39m\u001b[38;5;132;01m{\u001b[39;00mlimiting_reinforcement[\u001b[38;5;124m'\u001b[39m\u001b[38;5;124mValue\u001b[39m\u001b[38;5;124m'\u001b[39m][\u001b[38;5;241m6\u001b[39m]\u001b[38;5;132;01m}\u001b[39;00m\u001b[38;5;124m cm²/m\u001b[39m\u001b[38;5;124m\"\u001b[39m\\\n\u001b[0;32m   1849\u001b[0m                  \u001b[38;5;124mf\u001b[39m\u001b[38;5;124m\"\u001b[39m\u001b[38;5;124m, $V_u$=\u001b[39m\u001b[38;5;132;01m{\u001b[39;00mlimiting_forces[\u001b[38;5;124m'\u001b[39m\u001b[38;5;124mValue\u001b[39m\u001b[38;5;124m'\u001b[39m][\u001b[38;5;241m1\u001b[39m]\u001b[38;5;132;01m}\u001b[39;00m\u001b[38;5;124m kN, $\u001b[39m\u001b[38;5;130;01m\\\\\u001b[39;00m\u001b[38;5;124mphi V_n$=\u001b[39m\u001b[38;5;132;01m{\u001b[39;00mlimiting_shear_concrete[\u001b[38;5;124m'\u001b[39m\u001b[38;5;124mValue\u001b[39m\u001b[38;5;124m'\u001b[39m][\u001b[38;5;241m7\u001b[39m]\u001b[38;5;132;01m}\u001b[39;00m\u001b[38;5;124m kN → \u001b[39m\u001b[38;5;132;01m{\u001b[39;00mformatted_DCR\u001b[38;5;132;01m}\u001b[39;00m\u001b[38;5;124m \u001b[39m\u001b[38;5;132;01m{\u001b[39;00mwarning\u001b[38;5;132;01m}\u001b[39;00m\u001b[38;5;124m\"\u001b[39m  \u001b[38;5;66;03m# noqa: E501\u001b[39;00m\n\u001b[0;32m   1851\u001b[0m \u001b[38;5;28mself\u001b[39m\u001b[38;5;241m.\u001b[39m_md_shear_results \u001b[38;5;241m=\u001b[39m markdown_content\n",
      "\u001b[1;31mAttributeError\u001b[0m: 'RectangularBeam' object has no attribute '_all_shear_checks_passed'"
     ]
    }
   ],
   "source": [
    "from mento import Concrete_ACI_318_19, SteelBar, Forces, RectangularBeam, Node\n",
    "from mento import mm, cm, kN, MPa, kNm\n",
    "# Defines materiales and beam section\n",
    "conc= Concrete_ACI_318_19(name=\"C25\",f_c=25*MPa) \n",
    "steel= SteelBar(name=\"ADN 420\", f_y=420*MPa) \n",
    "beam = RectangularBeam(label=\"101\",concrete=conc,steel_bar=steel,width=20*cm, height=40*cm)\n",
    "# Define forces\n",
    "f1 = Forces(label='1.4D', V_z=50*kN, M_y=90*kNm)\n",
    "f2 = Forces(label='1.2D+1.6L', V_z=155*kN, M_y=-80*kNm)\n",
    "f3 = Forces(label='W', V_z=220*kN)\n",
    "f4 = Forces(label='S', V_z=80*kN)\n",
    "f5 = Forces(label='E', V_z=10*kN)\n",
    "# Create node and assign beam section and list of forces\n",
    "Node(section=beam, forces=[f1, f2, f3, f4, f5])\n",
    "# Assign transverse reiforcement\n",
    "beam.set_transverse_rebar(n_stirrups=1, d_b=8*mm, s_l=20*cm)\n",
    "beam.set_longitudinal_rebar_bot(n1=2,d_b1=16*mm, n2=1, d_b2=12*mm, n3=2,d_b3=12*mm, n4=1, d_b4=10*mm)\n",
    "beam.set_longitudinal_rebar_top(n1=2,d_b1=16*mm)\n",
    "# Check shear for all forces\n",
    "beam.check_shear()\n",
    "beam.check_flexure()\n",
    "# print(beam.check_shear())\n",
    "beam.results\n",
    "# beam.design_shear()\n",
    "# beam.results\n",
    "# beam.shear_results_detailed()"
   ]
  },
  {
   "cell_type": "code",
   "execution_count": 5,
   "id": "2f162af3",
   "metadata": {},
   "outputs": [],
   "source": [
    "from mento.summary import BeamSummary\n",
    "import pandas as pd\n",
    "\n",
    "conc = Concrete_ACI_318_19(name=\"C25\", f_c=25*MPa)\n",
    "steel = SteelBar(name=\"ADN 420\", f_y=420*MPa)\n",
    "input_df = pd.read_excel('Mento-Input.xlsx', sheet_name='Beams', usecols='B:R', skiprows=4)\n",
    "# data = {'Label': ['', 'V101', 'V102', 'V103', 'V104'],\n",
    "#         'b': ['cm', 20, 20, 20, 20],\n",
    "#         'h': ['cm', 50, 50, 50, 50],\n",
    "#         'Nx': ['kN', 0, 0, 0, 50],\n",
    "#         'Vz': ['kN', 20, 50, 100, 100],\n",
    "#         'My': ['kNm', 0, 35, 40, 45],\n",
    "#         'ns': ['', 0, 1.0, 1.0, 1.0],\n",
    "#         'dbs': ['mm', 0, 6, 6, 6],\n",
    "#         'sl': ['cm', 0, 20, 20, 20],\n",
    "#         'n1': ['', 2.0, 2.0, 2.0, 2.0],\n",
    "#         'db1': ['mm', 12, 12, 12, 12],\n",
    "#         'n2': ['', 1.0, 0.0, 1.0, 0.0],\n",
    "#         'db2': ['mm', 10, 0, 10, 0],\n",
    "#         'n3': ['', 2.0, 0.0, 2.0, 0.0],\n",
    "#         'db3': ['mm', 12, 0, 0, 0],\n",
    "#         'n4': ['', 1.0, 0.0, 1.0, 0.0],\n",
    "#         'db4': ['mm', 10, 0, 0, 0]}\n",
    "# input_df = pd.DataFrame(data)\n",
    "# print(input_df)\n",
    "beam_summary = BeamSummary(concrete=conc, steel_bar=steel, beam_list=input_df)\n",
    "# beam_summary.data\n",
    "beam_summary.check(capacity_check=True)\n",
    "beam_summary.check()\n",
    "# beam_summary.check().to_excel('hola.xlsx', index=False)\n",
    "beam_summary.shear_results(capacity=False)\n",
    "# beam_summary.shear_results(capacity=True)\n",
    "# print(results)\n",
    "# print(beam_summary.beams[3]['section'].shear_results_detailed)"
   ]
  },
  {
   "cell_type": "code",
   "execution_count": null,
   "id": "1ee58ee8",
   "metadata": {},
   "outputs": [],
   "source": [
    "from pint import UnitRegistry\n",
    "\n",
    "# Initialize a UnitRegistry for handling units with Pint\n",
    "ureg = UnitRegistry()\n",
    "PlainQuantity = ureg.Quantity\n",
    "\n",
    "def layer_clear_spacing(n_a: int, d_a: PlainQuantity, n_b: int, d_b: PlainQuantity, width: PlainQuantity, c_c: PlainQuantity, stirrup_d_b: PlainQuantity) -> PlainQuantity:\n",
    "    \"\"\"\n",
    "    Helper function to calculate clear spacing for a given layer.\n",
    "\n",
    "    Parameters:\n",
    "        n_a (int): Number of bars in the first group of the layer.\n",
    "        d_a (PlainQuantity): Diameter of bars in the first group of the layer.\n",
    "        n_b (int): Number of bars in the second group of the layer.\n",
    "        d_b (PlainQuantity): Diameter of bars in the second group of the layer.\n",
    "        width (PlainQuantity): Width of the section.\n",
    "        c_c (PlainQuantity): Clear cover.\n",
    "        stirrup_d_b (PlainQuantity): Diameter of the stirrup bars.\n",
    "\n",
    "    Returns:\n",
    "        PlainQuantity: Clear spacing for the given layer.\n",
    "    \"\"\"\n",
    "    effective_width = width - 2 * (c_c + stirrup_d_b)\n",
    "    total_bars = n_a + n_b\n",
    "    if total_bars <= 1:\n",
    "        return effective_width - max(d_a, d_b)  # Clear space for one bar\n",
    "    total_bar_width = n_a * d_a + n_b * d_b\n",
    "    return (effective_width - total_bar_width) / (total_bars - 1)\n",
    "\n",
    "# Example usage with dummy values\n",
    "n1, d_b1 = 2, 20 * ureg.mm  # Number of bars and diameter in group 1\n",
    "n2, d_b2 = 1, 12 * ureg.mm  # Number of bars and diameter in group 2\n",
    "n3, d_b3 = 4, 12 * ureg.mm  # Number of bars and diameter in group 3\n",
    "n4, d_b4 = 3, 16 * ureg.mm  # Number of bars and diameter in group 4\n",
    "\n",
    "width = 200 * ureg.mm  # Section width\n",
    "c_c = 25 * ureg.mm     # Clear cover\n",
    "stirrup_d_b = 10 * ureg.mm  # Diameter of stirrup bars\n",
    "\n",
    "# Calculate clear spacing for each layer\n",
    "spacing_layer1 = layer_clear_spacing(n1, d_b1, n2, d_b2, width, c_c, stirrup_d_b)\n",
    "spacing_layer2 = layer_clear_spacing(n3, d_b3, n4, d_b4, width, c_c, stirrup_d_b)\n",
    "\n",
    "print(f\"Clear spacing for layer 1: {spacing_layer1:.2f}\")\n",
    "print(f\"Clear spacing for layer 2: {spacing_layer2:.2f}\")\n"
   ]
  }
 ],
 "metadata": {
  "kernelspec": {
   "display_name": "rame-env",
   "language": "python",
   "name": "python3"
  },
  "language_info": {
   "codemirror_mode": {
    "name": "ipython",
    "version": 3
   },
   "file_extension": ".py",
   "mimetype": "text/x-python",
   "name": "python",
   "nbconvert_exporter": "python",
   "pygments_lexer": "ipython3",
   "version": "3.12.7"
  }
 },
 "nbformat": 4,
 "nbformat_minor": 5
}
